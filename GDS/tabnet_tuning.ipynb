{
 "cells": [
  {
   "metadata": {
    "ExecuteTime": {
     "end_time": "2025-05-08T07:24:58.891737Z",
     "start_time": "2025-05-08T07:24:41.934333Z"
    }
   },
   "cell_type": "code",
   "source": [
    "import numpy as np\n",
    "import pandas as pd\n",
    "import pickle\n",
    "import matplotlib.pyplot as plt\n",
    "import torch\n",
    "from sklearn.metrics import roc_auc_score, average_precision_score, precision_recall_curve, confusion_matrix, classification_report\n",
    "from pytorch_tabnet.tab_model import TabNetClassifier\n",
    "from sklearn.pipeline import Pipeline\n",
    "from sklearn.model_selection import GridSearchCV, StratifiedKFold\n",
    "from sklearn.preprocessing import StandardScaler"
   ],
   "id": "4d082dac5f4c06d7",
   "outputs": [],
   "execution_count": 1
  },
  {
   "metadata": {
    "ExecuteTime": {
     "end_time": "2025-05-08T07:25:00.133026Z",
     "start_time": "2025-05-08T07:25:00.101235Z"
    }
   },
   "cell_type": "code",
   "source": [
    "# Tải data đã lưu\n",
    "split_file = \"splitted_data.pkl\"\n",
    "print(\"Tải dữ liệu đã lưu từ:\", split_file)\n",
    "\n",
    "with open(split_file, \"rb\") as f:\n",
    "    data_splits = pickle.load(f)\n",
    "\n",
    "# Lấy các tập dữ liệu từ dictionary\n",
    "X_train = data_splits[\"X_train\"]\n",
    "X_val = data_splits[\"X_val\"]\n",
    "X_test = data_splits[\"X_test\"]\n",
    "y_train = data_splits[\"y_train\"]\n",
    "y_val = data_splits[\"y_val\"]\n",
    "y_test = data_splits[\"y_test\"]\n",
    "X_train_val = data_splits[\"X_train_val\"]\n",
    "y_train_val = data_splits[\"y_train_val\"]"
   ],
   "id": "2a59c5c3667a2dff",
   "outputs": [
    {
     "name": "stdout",
     "output_type": "stream",
     "text": [
      "Tải dữ liệu đã lưu từ: splitted_data.pkl\n"
     ]
    }
   ],
   "execution_count": 2
  },
  {
   "metadata": {
    "ExecuteTime": {
     "end_time": "2025-05-08T07:25:03.231528Z",
     "start_time": "2025-05-08T07:25:03.199569Z"
    }
   },
   "cell_type": "code",
   "source": [
    "# In thông tin về dữ liệu\n",
    "print(f\"\\nKích thước tập huấn luyện (X_train): {X_train.shape}\")\n",
    "print(f\"Kích thước tập validation (X_val): {X_val.shape}\")\n",
    "print(f\"Kích thước tập kiểm tra (X_test): {X_test.shape}\")\n",
    "print(f\"Kích thước tập huấn luyện + validation (X_train_val): {X_train_val.shape}\")"
   ],
   "id": "2eb5c7dca6c623a0",
   "outputs": [
    {
     "name": "stdout",
     "output_type": "stream",
     "text": [
      "\n",
      "Kích thước tập huấn luyện (X_train): (20238, 10)\n",
      "Kích thước tập validation (X_val): (6746, 10)\n",
      "Kích thước tập kiểm tra (X_test): (6747, 10)\n",
      "Kích thước tập huấn luyện + validation (X_train_val): (26984, 10)\n"
     ]
    }
   ],
   "execution_count": 3
  },
  {
   "metadata": {
    "ExecuteTime": {
     "end_time": "2025-05-08T07:25:07.299141Z",
     "start_time": "2025-05-08T07:25:07.292022Z"
    }
   },
   "cell_type": "code",
   "source": [
    "# Định nghĩa cross-validation phù hợp đảm bảo tỷ lệ fraud/non-fraud được giữ nguyên trong mỗi fold\n",
    "cv = StratifiedKFold(n_splits=5, shuffle=True, random_state=42)"
   ],
   "id": "438e166c445e2faf",
   "outputs": [],
   "execution_count": 4
  },
  {
   "metadata": {
    "ExecuteTime": {
     "end_time": "2025-05-05T18:06:01.064521Z",
     "start_time": "2025-05-05T17:11:35.822733Z"
    }
   },
   "cell_type": "code",
   "source": [
    "# 1. Tạo pipeline với TabNetClassifier\n",
    "pipeline_tabnet = Pipeline([\n",
    "    ('scaler', StandardScaler()),\n",
    "    ('tabnet', TabNetClassifier(\n",
    "        optimizer_fn=torch.optim.Adam,\n",
    "        scheduler_fn=torch.optim.lr_scheduler.ReduceLROnPlateau,\n",
    "        scheduler_params={\n",
    "            'mode':      'max',      \n",
    "            'factor':    0.5,\n",
    "            'patience':  5,\n",
    "            'min_lr':    1e-5,\n",
    "            'verbose':   False      \n",
    "        },\n",
    "        verbose=0,\n",
    "        seed=42\n",
    "    ))\n",
    "])\n",
    "\n",
    "\n",
    "# 2. Định nghĩa Grid các siêu tham số cho TabNet\n",
    "# Giảm số lượng tổ hợp để tìm kiếm hiệu quả hơn\n",
    "tabnet_param_grid = {\n",
    "    'tabnet__n_d':             [16, 32, 64],\n",
    "    'tabnet__n_a':             [16, 32, 64],\n",
    "    'tabnet__n_steps':         [3, 5],\n",
    "    'tabnet__gamma':           [1.0, 1.5],\n",
    "    'tabnet__lambda_sparse':   [1e-5, 1e-4],\n",
    "    'tabnet__mask_type':       ['sparsemax'],\n",
    "     'tabnet__optimizer_params': [\n",
    "        {'lr': 1e-3},\n",
    "        {'lr': 5e-3},\n",
    "    ]\n",
    "}\n",
    "\n",
    "# 3. Sử dụng RandomizedSearchCV thay vì GridSearchCV để tiết kiệm thời gian\n",
    "from sklearn.model_selection import RandomizedSearchCV\n",
    "\n",
    "random_search = RandomizedSearchCV(\n",
    "    estimator=pipeline_tabnet,\n",
    "    param_distributions=tabnet_param_grid,\n",
    "    n_iter=20,              # Chỉ thử 20 tổ hợp siêu tham số\n",
    "    cv=cv,\n",
    "    scoring='average_precision',\n",
    "    n_jobs=2,\n",
    "    verbose=1,\n",
    "    random_state=42\n",
    ")\n",
    "\n",
    "# 4. Chạy tìm siêu tham số\n",
    "random_search.fit(\n",
    "    X_train.values, y_train.values,\n",
    "    tabnet__eval_set=[(X_val.values, y_val.values)],\n",
    "    tabnet__max_epochs=200,\n",
    "    tabnet__patience=15,\n",
    "    tabnet__batch_size=512,\n",
    "    tabnet__virtual_batch_size=128\n",
    ")\n",
    "\n",
    "# 5. Lấy kết quả tốt nhất\n",
    "best_model_tabnet = random_search.best_estimator_\n",
    "print(\"Best Parameters for TabNet:\\n\", random_search.best_params_)\n",
    "print(\"Best Score:\", random_search.best_score_)\n",
    "\n",
    "# 6. Đánh giá trên tập Test\n",
    "y_test_pred = best_model_tabnet.predict(X_test)\n",
    "\n",
    "print(\"\\nClassification Report (Test):\")\n",
    "print(classification_report(y_test, y_test_pred, zero_division=0))\n"
   ],
   "id": "1a98cb91ed5cbd74",
   "outputs": [
    {
     "name": "stdout",
     "output_type": "stream",
     "text": [
      "Fitting 5 folds for each of 20 candidates, totalling 100 fits\n"
     ]
    },
    {
     "name": "stderr",
     "output_type": "stream",
     "text": [
      "C:\\Users\\ASUS\\PycharmProjects\\Graph Neural Network\\.venv\\lib\\site-packages\\sklearn\\model_selection\\_search.py:1107: UserWarning: One or more of the test scores are non-finite: [nan nan nan nan nan nan nan nan nan nan nan nan nan nan nan nan nan nan\n",
      " nan nan]\n",
      "  warnings.warn(\n"
     ]
    },
    {
     "name": "stdout",
     "output_type": "stream",
     "text": [
      "\n",
      "Early stopping occurred at epoch 19 with best_epoch = 4 and best_val_0_auc = 0.6149\n"
     ]
    },
    {
     "name": "stderr",
     "output_type": "stream",
     "text": [
      "C:\\Users\\ASUS\\PycharmProjects\\Graph Neural Network\\.venv\\lib\\site-packages\\pytorch_tabnet\\callbacks.py:172: UserWarning: Best weights from best epoch are automatically used!\n",
      "  warnings.warn(wrn_msg)\n"
     ]
    },
    {
     "name": "stdout",
     "output_type": "stream",
     "text": [
      "Best Parameters for TabNet:\n",
      " {'tabnet__optimizer_params': {'lr': 0.005}, 'tabnet__n_steps': 3, 'tabnet__n_d': 64, 'tabnet__n_a': 16, 'tabnet__mask_type': 'sparsemax', 'tabnet__lambda_sparse': 0.0001, 'tabnet__gamma': 1.5}\n",
      "Best Score: nan\n"
     ]
    },
    {
     "name": "stderr",
     "output_type": "stream",
     "text": [
      "C:\\Users\\ASUS\\PycharmProjects\\Graph Neural Network\\.venv\\lib\\site-packages\\sklearn\\utils\\validation.py:2732: UserWarning: X has feature names, but StandardScaler was fitted without feature names\n",
      "  warnings.warn(\n"
     ]
    },
    {
     "name": "stdout",
     "output_type": "stream",
     "text": [
      "\n",
      "Classification Report (Test):\n",
      "              precision    recall  f1-score   support\n",
      "\n",
      "           0       0.99      1.00      1.00      6705\n",
      "           1       0.09      0.05      0.06        42\n",
      "\n",
      "    accuracy                           0.99      6747\n",
      "   macro avg       0.54      0.52      0.53      6747\n",
      "weighted avg       0.99      0.99      0.99      6747\n",
      "\n"
     ]
    }
   ],
   "execution_count": 19
  },
  {
   "metadata": {
    "ExecuteTime": {
     "end_time": "2025-05-08T11:02:32.197592300Z",
     "start_time": "2025-05-08T07:41:19.292483Z"
    }
   },
   "cell_type": "code",
   "source": [
    "from imblearn.pipeline import Pipeline\n",
    "from imblearn.over_sampling import SMOTE\n",
    "# Tạo pipeline với TabNetClassifier\n",
    "pipeline_tabnet = Pipeline([\n",
    "    ('scaler', StandardScaler()),\n",
    "    ('smote', SMOTE(random_state=42)),\n",
    "    ('tabnet', TabNetClassifier(\n",
    "        optimizer_fn=torch.optim.Adam,\n",
    "        scheduler_fn=torch.optim.lr_scheduler.ReduceLROnPlateau,\n",
    "        scheduler_params={\n",
    "            'mode':      'max',      \n",
    "            'factor':    0.5,\n",
    "            'patience':  5,\n",
    "            'min_lr':    1e-5,\n",
    "            'verbose':   False      \n",
    "        },\n",
    "        verbose=0,\n",
    "        seed=42\n",
    "    ))\n",
    "])\n",
    "\n",
    "\n",
    "# 2. Định nghĩa Grid các siêu tham số cho TabNet\n",
    "# Giảm số lượng tổ hợp để tìm kiếm hiệu quả hơn\n",
    "tabnet_param_grid = {\n",
    "    'tabnet__n_d':             [16, 32, 64],\n",
    "    'tabnet__n_a':             [16, 32, 64],\n",
    "    'tabnet__n_steps':         [3, 5],\n",
    "    'tabnet__gamma':           [1.0, 1.5],\n",
    "    'tabnet__lambda_sparse':   [1e-5, 1e-4],\n",
    "    'tabnet__mask_type':       ['sparsemax'],\n",
    "     'tabnet__optimizer_params': [\n",
    "        {'lr': 1e-3},\n",
    "        {'lr': 5e-3},\n",
    "    ]\n",
    "}\n",
    "\n",
    "# 3. Sử dụng RandomizedSearchCV thay vì GridSearchCV để tiết kiệm thời gian\n",
    "from sklearn.model_selection import RandomizedSearchCV\n",
    "\n",
    "random_search = RandomizedSearchCV(\n",
    "    estimator=pipeline_tabnet,\n",
    "    param_distributions=tabnet_param_grid,\n",
    "    n_iter=20,              # Chỉ thử 20 tổ hợp siêu tham số\n",
    "    cv=cv,\n",
    "    scoring='average_precision',\n",
    "    n_jobs=2,\n",
    "    verbose=1,\n",
    "    random_state=42\n",
    ")\n",
    "\n",
    "# 4. Chạy tìm siêu tham số\n",
    "random_search.fit(\n",
    "    X_train.values, y_train.values,\n",
    "    tabnet__eval_set=[(X_val.values, y_val.values)],\n",
    "    tabnet__max_epochs=200,\n",
    "    tabnet__patience=20,\n",
    "    tabnet__batch_size=256,\n",
    "    tabnet__virtual_batch_size=64\n",
    ")\n",
    "\n",
    "# 5. Lấy kết quả tốt nhất\n",
    "best_model_tabnet = random_search.best_estimator_\n",
    "print(\"Best Parameters for TabNet - SMOTE:\\n\", random_search.best_params_)\n",
    "print(\"Best Score:\", random_search.best_score_)\n",
    "\n",
    "# 6. Đánh giá trên tập Test\n",
    "y_test_pred = best_model_tabnet.predict(X_test)\n",
    "\n",
    "print(\"\\nClassification Report (Test):\")\n",
    "print(classification_report(y_test, y_test_pred, zero_division=0))\n"
   ],
   "id": "e31cc01bc8b875c5",
   "outputs": [
    {
     "name": "stdout",
     "output_type": "stream",
     "text": [
      "Fitting 5 folds for each of 20 candidates, totalling 100 fits\n"
     ]
    },
    {
     "ename": "KeyboardInterrupt",
     "evalue": "",
     "output_type": "error",
     "traceback": [
      "\u001B[1;31m---------------------------------------------------------------------------\u001B[0m",
      "\u001B[1;31mKeyboardInterrupt\u001B[0m                         Traceback (most recent call last)",
      "Cell \u001B[1;32mIn[11], line 53\u001B[0m\n\u001B[0;32m     41\u001B[0m random_search \u001B[38;5;241m=\u001B[39m RandomizedSearchCV(\n\u001B[0;32m     42\u001B[0m     estimator\u001B[38;5;241m=\u001B[39mpipeline_tabnet,\n\u001B[0;32m     43\u001B[0m     param_distributions\u001B[38;5;241m=\u001B[39mtabnet_param_grid,\n\u001B[1;32m   (...)\u001B[0m\n\u001B[0;32m     49\u001B[0m     random_state\u001B[38;5;241m=\u001B[39m\u001B[38;5;241m42\u001B[39m\n\u001B[0;32m     50\u001B[0m )\n\u001B[0;32m     52\u001B[0m \u001B[38;5;66;03m# 4. Chạy tìm siêu tham số\u001B[39;00m\n\u001B[1;32m---> 53\u001B[0m \u001B[43mrandom_search\u001B[49m\u001B[38;5;241;43m.\u001B[39;49m\u001B[43mfit\u001B[49m\u001B[43m(\u001B[49m\n\u001B[0;32m     54\u001B[0m \u001B[43m    \u001B[49m\u001B[43mX_train\u001B[49m\u001B[38;5;241;43m.\u001B[39;49m\u001B[43mvalues\u001B[49m\u001B[43m,\u001B[49m\u001B[43m \u001B[49m\u001B[43my_train\u001B[49m\u001B[38;5;241;43m.\u001B[39;49m\u001B[43mvalues\u001B[49m\u001B[43m,\u001B[49m\n\u001B[0;32m     55\u001B[0m \u001B[43m    \u001B[49m\u001B[43mtabnet__eval_set\u001B[49m\u001B[38;5;241;43m=\u001B[39;49m\u001B[43m[\u001B[49m\u001B[43m(\u001B[49m\u001B[43mX_val\u001B[49m\u001B[38;5;241;43m.\u001B[39;49m\u001B[43mvalues\u001B[49m\u001B[43m,\u001B[49m\u001B[43m \u001B[49m\u001B[43my_val\u001B[49m\u001B[38;5;241;43m.\u001B[39;49m\u001B[43mvalues\u001B[49m\u001B[43m)\u001B[49m\u001B[43m]\u001B[49m\u001B[43m,\u001B[49m\n\u001B[0;32m     56\u001B[0m \u001B[43m    \u001B[49m\u001B[43mtabnet__max_epochs\u001B[49m\u001B[38;5;241;43m=\u001B[39;49m\u001B[38;5;241;43m200\u001B[39;49m\u001B[43m,\u001B[49m\n\u001B[0;32m     57\u001B[0m \u001B[43m    \u001B[49m\u001B[43mtabnet__patience\u001B[49m\u001B[38;5;241;43m=\u001B[39;49m\u001B[38;5;241;43m20\u001B[39;49m\u001B[43m,\u001B[49m\n\u001B[0;32m     58\u001B[0m \u001B[43m    \u001B[49m\u001B[43mtabnet__batch_size\u001B[49m\u001B[38;5;241;43m=\u001B[39;49m\u001B[38;5;241;43m256\u001B[39;49m\u001B[43m,\u001B[49m\n\u001B[0;32m     59\u001B[0m \u001B[43m    \u001B[49m\u001B[43mtabnet__virtual_batch_size\u001B[49m\u001B[38;5;241;43m=\u001B[39;49m\u001B[38;5;241;43m64\u001B[39;49m\n\u001B[0;32m     60\u001B[0m \u001B[43m)\u001B[49m\n\u001B[0;32m     62\u001B[0m \u001B[38;5;66;03m# 5. Lấy kết quả tốt nhất\u001B[39;00m\n\u001B[0;32m     63\u001B[0m best_model_tabnet \u001B[38;5;241m=\u001B[39m random_search\u001B[38;5;241m.\u001B[39mbest_estimator_\n",
      "File \u001B[1;32m~\\PycharmProjects\\Graph Neural Network\\.venv\\lib\\site-packages\\sklearn\\base.py:1389\u001B[0m, in \u001B[0;36m_fit_context.<locals>.decorator.<locals>.wrapper\u001B[1;34m(estimator, *args, **kwargs)\u001B[0m\n\u001B[0;32m   1382\u001B[0m     estimator\u001B[38;5;241m.\u001B[39m_validate_params()\n\u001B[0;32m   1384\u001B[0m \u001B[38;5;28;01mwith\u001B[39;00m config_context(\n\u001B[0;32m   1385\u001B[0m     skip_parameter_validation\u001B[38;5;241m=\u001B[39m(\n\u001B[0;32m   1386\u001B[0m         prefer_skip_nested_validation \u001B[38;5;129;01mor\u001B[39;00m global_skip_validation\n\u001B[0;32m   1387\u001B[0m     )\n\u001B[0;32m   1388\u001B[0m ):\n\u001B[1;32m-> 1389\u001B[0m     \u001B[38;5;28;01mreturn\u001B[39;00m fit_method(estimator, \u001B[38;5;241m*\u001B[39margs, \u001B[38;5;241m*\u001B[39m\u001B[38;5;241m*\u001B[39mkwargs)\n",
      "File \u001B[1;32m~\\PycharmProjects\\Graph Neural Network\\.venv\\lib\\site-packages\\sklearn\\model_selection\\_search.py:1023\u001B[0m, in \u001B[0;36mBaseSearchCV.fit\u001B[1;34m(self, X, y, **params)\u001B[0m\n\u001B[0;32m   1017\u001B[0m     results \u001B[38;5;241m=\u001B[39m \u001B[38;5;28mself\u001B[39m\u001B[38;5;241m.\u001B[39m_format_results(\n\u001B[0;32m   1018\u001B[0m         all_candidate_params, n_splits, all_out, all_more_results\n\u001B[0;32m   1019\u001B[0m     )\n\u001B[0;32m   1021\u001B[0m     \u001B[38;5;28;01mreturn\u001B[39;00m results\n\u001B[1;32m-> 1023\u001B[0m \u001B[38;5;28;43mself\u001B[39;49m\u001B[38;5;241;43m.\u001B[39;49m\u001B[43m_run_search\u001B[49m\u001B[43m(\u001B[49m\u001B[43mevaluate_candidates\u001B[49m\u001B[43m)\u001B[49m\n\u001B[0;32m   1025\u001B[0m \u001B[38;5;66;03m# multimetric is determined here because in the case of a callable\u001B[39;00m\n\u001B[0;32m   1026\u001B[0m \u001B[38;5;66;03m# self.scoring the return type is only known after calling\u001B[39;00m\n\u001B[0;32m   1027\u001B[0m first_test_score \u001B[38;5;241m=\u001B[39m all_out[\u001B[38;5;241m0\u001B[39m][\u001B[38;5;124m\"\u001B[39m\u001B[38;5;124mtest_scores\u001B[39m\u001B[38;5;124m\"\u001B[39m]\n",
      "File \u001B[1;32m~\\PycharmProjects\\Graph Neural Network\\.venv\\lib\\site-packages\\sklearn\\model_selection\\_search.py:1950\u001B[0m, in \u001B[0;36mRandomizedSearchCV._run_search\u001B[1;34m(self, evaluate_candidates)\u001B[0m\n\u001B[0;32m   1948\u001B[0m \u001B[38;5;28;01mdef\u001B[39;00m\u001B[38;5;250m \u001B[39m\u001B[38;5;21m_run_search\u001B[39m(\u001B[38;5;28mself\u001B[39m, evaluate_candidates):\n\u001B[0;32m   1949\u001B[0m \u001B[38;5;250m    \u001B[39m\u001B[38;5;124;03m\"\"\"Search n_iter candidates from param_distributions\"\"\"\u001B[39;00m\n\u001B[1;32m-> 1950\u001B[0m     \u001B[43mevaluate_candidates\u001B[49m\u001B[43m(\u001B[49m\n\u001B[0;32m   1951\u001B[0m \u001B[43m        \u001B[49m\u001B[43mParameterSampler\u001B[49m\u001B[43m(\u001B[49m\n\u001B[0;32m   1952\u001B[0m \u001B[43m            \u001B[49m\u001B[38;5;28;43mself\u001B[39;49m\u001B[38;5;241;43m.\u001B[39;49m\u001B[43mparam_distributions\u001B[49m\u001B[43m,\u001B[49m\u001B[43m \u001B[49m\u001B[38;5;28;43mself\u001B[39;49m\u001B[38;5;241;43m.\u001B[39;49m\u001B[43mn_iter\u001B[49m\u001B[43m,\u001B[49m\u001B[43m \u001B[49m\u001B[43mrandom_state\u001B[49m\u001B[38;5;241;43m=\u001B[39;49m\u001B[38;5;28;43mself\u001B[39;49m\u001B[38;5;241;43m.\u001B[39;49m\u001B[43mrandom_state\u001B[49m\n\u001B[0;32m   1953\u001B[0m \u001B[43m        \u001B[49m\u001B[43m)\u001B[49m\n\u001B[0;32m   1954\u001B[0m \u001B[43m    \u001B[49m\u001B[43m)\u001B[49m\n",
      "File \u001B[1;32m~\\PycharmProjects\\Graph Neural Network\\.venv\\lib\\site-packages\\sklearn\\model_selection\\_search.py:969\u001B[0m, in \u001B[0;36mBaseSearchCV.fit.<locals>.evaluate_candidates\u001B[1;34m(candidate_params, cv, more_results)\u001B[0m\n\u001B[0;32m    961\u001B[0m \u001B[38;5;28;01mif\u001B[39;00m \u001B[38;5;28mself\u001B[39m\u001B[38;5;241m.\u001B[39mverbose \u001B[38;5;241m>\u001B[39m \u001B[38;5;241m0\u001B[39m:\n\u001B[0;32m    962\u001B[0m     \u001B[38;5;28mprint\u001B[39m(\n\u001B[0;32m    963\u001B[0m         \u001B[38;5;124m\"\u001B[39m\u001B[38;5;124mFitting \u001B[39m\u001B[38;5;132;01m{0}\u001B[39;00m\u001B[38;5;124m folds for each of \u001B[39m\u001B[38;5;132;01m{1}\u001B[39;00m\u001B[38;5;124m candidates,\u001B[39m\u001B[38;5;124m\"\u001B[39m\n\u001B[0;32m    964\u001B[0m         \u001B[38;5;124m\"\u001B[39m\u001B[38;5;124m totalling \u001B[39m\u001B[38;5;132;01m{2}\u001B[39;00m\u001B[38;5;124m fits\u001B[39m\u001B[38;5;124m\"\u001B[39m\u001B[38;5;241m.\u001B[39mformat(\n\u001B[0;32m    965\u001B[0m             n_splits, n_candidates, n_candidates \u001B[38;5;241m*\u001B[39m n_splits\n\u001B[0;32m    966\u001B[0m         )\n\u001B[0;32m    967\u001B[0m     )\n\u001B[1;32m--> 969\u001B[0m out \u001B[38;5;241m=\u001B[39m \u001B[43mparallel\u001B[49m\u001B[43m(\u001B[49m\n\u001B[0;32m    970\u001B[0m \u001B[43m    \u001B[49m\u001B[43mdelayed\u001B[49m\u001B[43m(\u001B[49m\u001B[43m_fit_and_score\u001B[49m\u001B[43m)\u001B[49m\u001B[43m(\u001B[49m\n\u001B[0;32m    971\u001B[0m \u001B[43m        \u001B[49m\u001B[43mclone\u001B[49m\u001B[43m(\u001B[49m\u001B[43mbase_estimator\u001B[49m\u001B[43m)\u001B[49m\u001B[43m,\u001B[49m\n\u001B[0;32m    972\u001B[0m \u001B[43m        \u001B[49m\u001B[43mX\u001B[49m\u001B[43m,\u001B[49m\n\u001B[0;32m    973\u001B[0m \u001B[43m        \u001B[49m\u001B[43my\u001B[49m\u001B[43m,\u001B[49m\n\u001B[0;32m    974\u001B[0m \u001B[43m        \u001B[49m\u001B[43mtrain\u001B[49m\u001B[38;5;241;43m=\u001B[39;49m\u001B[43mtrain\u001B[49m\u001B[43m,\u001B[49m\n\u001B[0;32m    975\u001B[0m \u001B[43m        \u001B[49m\u001B[43mtest\u001B[49m\u001B[38;5;241;43m=\u001B[39;49m\u001B[43mtest\u001B[49m\u001B[43m,\u001B[49m\n\u001B[0;32m    976\u001B[0m \u001B[43m        \u001B[49m\u001B[43mparameters\u001B[49m\u001B[38;5;241;43m=\u001B[39;49m\u001B[43mparameters\u001B[49m\u001B[43m,\u001B[49m\n\u001B[0;32m    977\u001B[0m \u001B[43m        \u001B[49m\u001B[43msplit_progress\u001B[49m\u001B[38;5;241;43m=\u001B[39;49m\u001B[43m(\u001B[49m\u001B[43msplit_idx\u001B[49m\u001B[43m,\u001B[49m\u001B[43m \u001B[49m\u001B[43mn_splits\u001B[49m\u001B[43m)\u001B[49m\u001B[43m,\u001B[49m\n\u001B[0;32m    978\u001B[0m \u001B[43m        \u001B[49m\u001B[43mcandidate_progress\u001B[49m\u001B[38;5;241;43m=\u001B[39;49m\u001B[43m(\u001B[49m\u001B[43mcand_idx\u001B[49m\u001B[43m,\u001B[49m\u001B[43m \u001B[49m\u001B[43mn_candidates\u001B[49m\u001B[43m)\u001B[49m\u001B[43m,\u001B[49m\n\u001B[0;32m    979\u001B[0m \u001B[43m        \u001B[49m\u001B[38;5;241;43m*\u001B[39;49m\u001B[38;5;241;43m*\u001B[39;49m\u001B[43mfit_and_score_kwargs\u001B[49m\u001B[43m,\u001B[49m\n\u001B[0;32m    980\u001B[0m \u001B[43m    \u001B[49m\u001B[43m)\u001B[49m\n\u001B[0;32m    981\u001B[0m \u001B[43m    \u001B[49m\u001B[38;5;28;43;01mfor\u001B[39;49;00m\u001B[43m \u001B[49m\u001B[43m(\u001B[49m\u001B[43mcand_idx\u001B[49m\u001B[43m,\u001B[49m\u001B[43m \u001B[49m\u001B[43mparameters\u001B[49m\u001B[43m)\u001B[49m\u001B[43m,\u001B[49m\u001B[43m \u001B[49m\u001B[43m(\u001B[49m\u001B[43msplit_idx\u001B[49m\u001B[43m,\u001B[49m\u001B[43m \u001B[49m\u001B[43m(\u001B[49m\u001B[43mtrain\u001B[49m\u001B[43m,\u001B[49m\u001B[43m \u001B[49m\u001B[43mtest\u001B[49m\u001B[43m)\u001B[49m\u001B[43m)\u001B[49m\u001B[43m \u001B[49m\u001B[38;5;129;43;01min\u001B[39;49;00m\u001B[43m \u001B[49m\u001B[43mproduct\u001B[49m\u001B[43m(\u001B[49m\n\u001B[0;32m    982\u001B[0m \u001B[43m        \u001B[49m\u001B[38;5;28;43menumerate\u001B[39;49m\u001B[43m(\u001B[49m\u001B[43mcandidate_params\u001B[49m\u001B[43m)\u001B[49m\u001B[43m,\u001B[49m\n\u001B[0;32m    983\u001B[0m \u001B[43m        \u001B[49m\u001B[38;5;28;43menumerate\u001B[39;49m\u001B[43m(\u001B[49m\u001B[43mcv\u001B[49m\u001B[38;5;241;43m.\u001B[39;49m\u001B[43msplit\u001B[49m\u001B[43m(\u001B[49m\u001B[43mX\u001B[49m\u001B[43m,\u001B[49m\u001B[43m \u001B[49m\u001B[43my\u001B[49m\u001B[43m,\u001B[49m\u001B[43m \u001B[49m\u001B[38;5;241;43m*\u001B[39;49m\u001B[38;5;241;43m*\u001B[39;49m\u001B[43mrouted_params\u001B[49m\u001B[38;5;241;43m.\u001B[39;49m\u001B[43msplitter\u001B[49m\u001B[38;5;241;43m.\u001B[39;49m\u001B[43msplit\u001B[49m\u001B[43m)\u001B[49m\u001B[43m)\u001B[49m\u001B[43m,\u001B[49m\n\u001B[0;32m    984\u001B[0m \u001B[43m    \u001B[49m\u001B[43m)\u001B[49m\n\u001B[0;32m    985\u001B[0m \u001B[43m\u001B[49m\u001B[43m)\u001B[49m\n\u001B[0;32m    987\u001B[0m \u001B[38;5;28;01mif\u001B[39;00m \u001B[38;5;28mlen\u001B[39m(out) \u001B[38;5;241m<\u001B[39m \u001B[38;5;241m1\u001B[39m:\n\u001B[0;32m    988\u001B[0m     \u001B[38;5;28;01mraise\u001B[39;00m \u001B[38;5;167;01mValueError\u001B[39;00m(\n\u001B[0;32m    989\u001B[0m         \u001B[38;5;124m\"\u001B[39m\u001B[38;5;124mNo fits were performed. \u001B[39m\u001B[38;5;124m\"\u001B[39m\n\u001B[0;32m    990\u001B[0m         \u001B[38;5;124m\"\u001B[39m\u001B[38;5;124mWas the CV iterator empty? \u001B[39m\u001B[38;5;124m\"\u001B[39m\n\u001B[0;32m    991\u001B[0m         \u001B[38;5;124m\"\u001B[39m\u001B[38;5;124mWere there no candidates?\u001B[39m\u001B[38;5;124m\"\u001B[39m\n\u001B[0;32m    992\u001B[0m     )\n",
      "File \u001B[1;32m~\\PycharmProjects\\Graph Neural Network\\.venv\\lib\\site-packages\\sklearn\\utils\\parallel.py:77\u001B[0m, in \u001B[0;36mParallel.__call__\u001B[1;34m(self, iterable)\u001B[0m\n\u001B[0;32m     72\u001B[0m config \u001B[38;5;241m=\u001B[39m get_config()\n\u001B[0;32m     73\u001B[0m iterable_with_config \u001B[38;5;241m=\u001B[39m (\n\u001B[0;32m     74\u001B[0m     (_with_config(delayed_func, config), args, kwargs)\n\u001B[0;32m     75\u001B[0m     \u001B[38;5;28;01mfor\u001B[39;00m delayed_func, args, kwargs \u001B[38;5;129;01min\u001B[39;00m iterable\n\u001B[0;32m     76\u001B[0m )\n\u001B[1;32m---> 77\u001B[0m \u001B[38;5;28;01mreturn\u001B[39;00m \u001B[38;5;28;43msuper\u001B[39;49m\u001B[43m(\u001B[49m\u001B[43m)\u001B[49m\u001B[38;5;241;43m.\u001B[39;49m\u001B[38;5;21;43m__call__\u001B[39;49m\u001B[43m(\u001B[49m\u001B[43miterable_with_config\u001B[49m\u001B[43m)\u001B[49m\n",
      "File \u001B[1;32m~\\PycharmProjects\\Graph Neural Network\\.venv\\lib\\site-packages\\joblib\\parallel.py:2007\u001B[0m, in \u001B[0;36mParallel.__call__\u001B[1;34m(self, iterable)\u001B[0m\n\u001B[0;32m   2001\u001B[0m \u001B[38;5;66;03m# The first item from the output is blank, but it makes the interpreter\u001B[39;00m\n\u001B[0;32m   2002\u001B[0m \u001B[38;5;66;03m# progress until it enters the Try/Except block of the generator and\u001B[39;00m\n\u001B[0;32m   2003\u001B[0m \u001B[38;5;66;03m# reaches the first `yield` statement. This starts the asynchronous\u001B[39;00m\n\u001B[0;32m   2004\u001B[0m \u001B[38;5;66;03m# dispatch of the tasks to the workers.\u001B[39;00m\n\u001B[0;32m   2005\u001B[0m \u001B[38;5;28mnext\u001B[39m(output)\n\u001B[1;32m-> 2007\u001B[0m \u001B[38;5;28;01mreturn\u001B[39;00m output \u001B[38;5;28;01mif\u001B[39;00m \u001B[38;5;28mself\u001B[39m\u001B[38;5;241m.\u001B[39mreturn_generator \u001B[38;5;28;01melse\u001B[39;00m \u001B[38;5;28;43mlist\u001B[39;49m\u001B[43m(\u001B[49m\u001B[43moutput\u001B[49m\u001B[43m)\u001B[49m\n",
      "File \u001B[1;32m~\\PycharmProjects\\Graph Neural Network\\.venv\\lib\\site-packages\\joblib\\parallel.py:1650\u001B[0m, in \u001B[0;36mParallel._get_outputs\u001B[1;34m(self, iterator, pre_dispatch)\u001B[0m\n\u001B[0;32m   1647\u001B[0m     \u001B[38;5;28;01myield\u001B[39;00m\n\u001B[0;32m   1649\u001B[0m     \u001B[38;5;28;01mwith\u001B[39;00m \u001B[38;5;28mself\u001B[39m\u001B[38;5;241m.\u001B[39m_backend\u001B[38;5;241m.\u001B[39mretrieval_context():\n\u001B[1;32m-> 1650\u001B[0m         \u001B[38;5;28;01myield from\u001B[39;00m \u001B[38;5;28mself\u001B[39m\u001B[38;5;241m.\u001B[39m_retrieve()\n\u001B[0;32m   1652\u001B[0m \u001B[38;5;28;01mexcept\u001B[39;00m \u001B[38;5;167;01mGeneratorExit\u001B[39;00m:\n\u001B[0;32m   1653\u001B[0m     \u001B[38;5;66;03m# The generator has been garbage collected before being fully\u001B[39;00m\n\u001B[0;32m   1654\u001B[0m     \u001B[38;5;66;03m# consumed. This aborts the remaining tasks if possible and warn\u001B[39;00m\n\u001B[0;32m   1655\u001B[0m     \u001B[38;5;66;03m# the user if necessary.\u001B[39;00m\n\u001B[0;32m   1656\u001B[0m     \u001B[38;5;28mself\u001B[39m\u001B[38;5;241m.\u001B[39m_exception \u001B[38;5;241m=\u001B[39m \u001B[38;5;28;01mTrue\u001B[39;00m\n",
      "File \u001B[1;32m~\\PycharmProjects\\Graph Neural Network\\.venv\\lib\\site-packages\\joblib\\parallel.py:1762\u001B[0m, in \u001B[0;36mParallel._retrieve\u001B[1;34m(self)\u001B[0m\n\u001B[0;32m   1757\u001B[0m \u001B[38;5;66;03m# If the next job is not ready for retrieval yet, we just wait for\u001B[39;00m\n\u001B[0;32m   1758\u001B[0m \u001B[38;5;66;03m# async callbacks to progress.\u001B[39;00m\n\u001B[0;32m   1759\u001B[0m \u001B[38;5;28;01mif\u001B[39;00m ((\u001B[38;5;28mlen\u001B[39m(\u001B[38;5;28mself\u001B[39m\u001B[38;5;241m.\u001B[39m_jobs) \u001B[38;5;241m==\u001B[39m \u001B[38;5;241m0\u001B[39m) \u001B[38;5;129;01mor\u001B[39;00m\n\u001B[0;32m   1760\u001B[0m     (\u001B[38;5;28mself\u001B[39m\u001B[38;5;241m.\u001B[39m_jobs[\u001B[38;5;241m0\u001B[39m]\u001B[38;5;241m.\u001B[39mget_status(\n\u001B[0;32m   1761\u001B[0m         timeout\u001B[38;5;241m=\u001B[39m\u001B[38;5;28mself\u001B[39m\u001B[38;5;241m.\u001B[39mtimeout) \u001B[38;5;241m==\u001B[39m TASK_PENDING)):\n\u001B[1;32m-> 1762\u001B[0m     \u001B[43mtime\u001B[49m\u001B[38;5;241;43m.\u001B[39;49m\u001B[43msleep\u001B[49m\u001B[43m(\u001B[49m\u001B[38;5;241;43m0.01\u001B[39;49m\u001B[43m)\u001B[49m\n\u001B[0;32m   1763\u001B[0m     \u001B[38;5;28;01mcontinue\u001B[39;00m\n\u001B[0;32m   1765\u001B[0m \u001B[38;5;66;03m# We need to be careful: the job list can be filling up as\u001B[39;00m\n\u001B[0;32m   1766\u001B[0m \u001B[38;5;66;03m# we empty it and Python list are not thread-safe by\u001B[39;00m\n\u001B[0;32m   1767\u001B[0m \u001B[38;5;66;03m# default hence the use of the lock\u001B[39;00m\n",
      "\u001B[1;31mKeyboardInterrupt\u001B[0m: "
     ]
    }
   ],
   "execution_count": 11
  },
  {
   "metadata": {},
   "cell_type": "code",
   "outputs": [],
   "execution_count": null,
   "source": [
    "# Sau khi tìm được siêu tham số tốt nhất\n",
    "print(\"Retraining model with best parameters on full training data...\")\n",
    "\n",
    "# Tạo mô hình mới với siêu tham số tốt nhất\n",
    "best_params = random_search.best_params_\n",
    "final_model = TabNetClassifier(\n",
    "    n_d=best_params['tabnet__n_d'],\n",
    "    n_a=best_params['tabnet__n_a'],\n",
    "    n_steps=best_params['tabnet__n_steps'],\n",
    "    gamma=best_params['tabnet__gamma'],\n",
    "    lambda_sparse=best_params['tabnet__lambda_sparse'],\n",
    "    optimizer_fn=torch.optim.Adam,\n",
    "    optimizer_params=best_params['tabnet__optimizer_params'],\n",
    "    mask_type=best_params['tabnet__mask_type'],\n",
    "    scheduler_fn=torch.optim.lr_scheduler.ReduceLROnPlateau,\n",
    "    scheduler_params={'mode': 'max', 'patience': 5, 'min_lr': 1e-5, 'factor': 0.5},\n",
    "    verbose=1,\n",
    "    seed=42\n",
    ")\n",
    "\n",
    "# Huấn luyện trên toàn bộ tập train_val\n",
    "X_train_val_array = X_train_val.values if hasattr(X_train_val, \"values\") else X_train_val\n",
    "y_train_val_array = y_train_val.values if hasattr(y_train_val, \"values\") else y_train_val\n",
    "\n",
    "final_model.fit(\n",
    "    X_train=X_train_val_array, \n",
    "    y_train=y_train_val_array,\n",
    "    eval_set=[(X_train_val_array, y_train_val_array)]  # Có thể thêm validation set nếu cần\n",
    ")\n",
    "\n",
    "# Đánh giá trên tập test với mô hình đã huấn luyện lại\n",
    "y_test_pred = final_model.predict(X_test)\n",
    "y_test_proba = final_model.predict_proba(X_test)[:, 1]\n",
    "\n",
    "print(\"\\nFinal Model Classification Report (Test):\")\n",
    "print(classification_report(y_test, y_test_pred, zero_division=0))\n",
    "print(\"Final Test ROC AUC:           {:.4f}\".format(roc_auc_score(y_test, y_test_proba)))\n",
    "print(\"Final Test Average Precision: {:.4f}\".format(average_precision_score(y_test, y_test_proba)))"
   ],
   "id": "ed8d461b07877371"
  },
  {
   "metadata": {},
   "cell_type": "code",
   "outputs": [],
   "execution_count": null,
   "source": [
    "import pandas as pd\n",
    "import matplotlib.pyplot as plt\n",
    "\n",
    "# 1. Lấy feature importances từ final_model đã train trên X_train_val\n",
    "importances = final_model.feature_importances_\n",
    "\n",
    "# 2. Xác định tên các đặc trưng từ X_train_val\n",
    "if hasattr(X_train_val, 'columns'):\n",
    "    feature_names = X_train_val.columns.tolist()\n",
    "else:\n",
    "    feature_names = [f\"feature_{i}\" for i in range(X_train_val.shape[1])]\n",
    "\n",
    "# 3. Tạo DataFrame và sort\n",
    "importance_df = pd.DataFrame({\n",
    "    'Feature': feature_names,\n",
    "    'Importance': importances\n",
    "})\n",
    "importance_df = importance_df.sort_values('Importance', ascending=False)\n",
    "\n",
    "# 4. Chọn top N\n",
    "top_n = 20\n",
    "top_df = importance_df.head(top_n)\n",
    "\n",
    "# 5. Vẽ biểu đồ horizontal bar chart với matplotlib\n",
    "plt.figure(figsize=(10, 6))\n",
    "plt.barh(top_df['Feature'][::-1], top_df['Importance'][::-1])\n",
    "plt.xlabel('Importance')\n",
    "plt.title(f'Top {top_n} Feature Importances (trained on X_train_val)')\n",
    "plt.tight_layout()\n",
    "plt.show()\n"
   ],
   "id": "2e4b6b90f62e90c9"
  }
 ],
 "metadata": {
  "kernelspec": {
   "display_name": "Python 3",
   "language": "python",
   "name": "python3"
  },
  "language_info": {
   "codemirror_mode": {
    "name": "ipython",
    "version": 2
   },
   "file_extension": ".py",
   "mimetype": "text/x-python",
   "name": "python",
   "nbconvert_exporter": "python",
   "pygments_lexer": "ipython2",
   "version": "2.7.6"
  }
 },
 "nbformat": 4,
 "nbformat_minor": 5
}
