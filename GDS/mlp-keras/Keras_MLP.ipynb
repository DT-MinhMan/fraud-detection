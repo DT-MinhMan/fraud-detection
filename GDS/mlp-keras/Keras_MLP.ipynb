{
 "cells": [
  {
   "metadata": {
    "ExecuteTime": {
     "end_time": "2025-04-24T06:22:07.301487Z",
     "start_time": "2025-04-24T06:22:00.587624Z"
    }
   },
   "cell_type": "code",
   "source": [
    "import pickle\n",
    "import pandas as pd\n",
    "import numpy as np\n",
    "from sklearn.utils.class_weight import compute_class_weight\n",
    "from sklearn.metrics import classification_report, confusion_matrix, roc_auc_score, precision_recall_curve, auc\n",
    "from tensorflow.keras.models import Sequential\n",
    "from tensorflow.keras.layers import Dense, Dropout, BatchNormalization\n",
    "from tensorflow.keras.callbacks import EarlyStopping, ReduceLROnPlateau\n",
    "from tensorflow.keras.optimizers import Adam\n",
    "from tensorflow.keras.regularizers import l2\n",
    "import matplotlib.pyplot as plt\n",
    "from imblearn.over_sampling import SMOTE\n",
    "from tensorflow.keras.metrics import AUC, Precision, Recall"
   ],
   "id": "c6cf5e4da6a981b3",
   "outputs": [
    {
     "name": "stdout",
     "output_type": "stream",
     "text": [
      "WARNING:tensorflow:From C:\\Users\\ASUS\\PycharmProjects\\Graph Neural Network\\.venv\\lib\\site-packages\\keras\\src\\losses.py:2976: The name tf.losses.sparse_softmax_cross_entropy is deprecated. Please use tf.compat.v1.losses.sparse_softmax_cross_entropy instead.\n",
      "\n"
     ]
    }
   ],
   "execution_count": 1
  },
  {
   "metadata": {
    "ExecuteTime": {
     "end_time": "2025-04-17T08:53:36.327707Z",
     "start_time": "2025-04-17T08:53:36.305291Z"
    }
   },
   "cell_type": "code",
   "source": [
    "import tensorflow\n",
    "print(tensorflow.__file__)"
   ],
   "id": "e3237f46926276b3",
   "outputs": [
    {
     "name": "stdout",
     "output_type": "stream",
     "text": [
      "C:\\Users\\ASUS\\PycharmProjects\\Graph Neural Network\\.venv\\lib\\site-packages\\tensorflow\\__init__.py\n"
     ]
    }
   ],
   "execution_count": 2
  },
  {
   "metadata": {
    "ExecuteTime": {
     "end_time": "2025-04-17T07:28:32.646525Z",
     "start_time": "2025-04-17T07:28:32.636740Z"
    }
   },
   "cell_type": "code",
   "source": [
    "import sys\n",
    "print(sys.executable)\n",
    "import tensorflow\n",
    "print(tensorflow.__file__)"
   ],
   "id": "72e314eda1e58118",
   "outputs": [
    {
     "name": "stdout",
     "output_type": "stream",
     "text": [
      "C:\\Users\\ASUS\\AppData\\Local\\Programs\\Python\\Python310\\python.exe\n",
      "None\n"
     ]
    }
   ],
   "execution_count": 10
  },
  {
   "metadata": {
    "ExecuteTime": {
     "end_time": "2025-04-17T08:53:55.799558Z",
     "start_time": "2025-04-17T08:53:55.783900Z"
    }
   },
   "cell_type": "code",
   "source": [
    "import tensorflow as tf\n",
    "print(tf.__path__)"
   ],
   "id": "183d2eea18822b9d",
   "outputs": [
    {
     "name": "stdout",
     "output_type": "stream",
     "text": [
      "['C:\\\\Users\\\\ASUS\\\\PycharmProjects\\\\Graph Neural Network\\\\.venv\\\\lib\\\\site-packages\\\\keras\\\\api\\\\_v2', 'C:\\\\Users\\\\ASUS\\\\PycharmProjects\\\\Graph Neural Network\\\\.venv\\\\lib\\\\site-packages\\\\keras\\\\_tf_keras', 'C:\\\\Users\\\\ASUS\\\\PycharmProjects\\\\Graph Neural Network\\\\.venv\\\\lib\\\\site-packages\\\\tensorflow_estimator\\\\python\\\\estimator\\\\api\\\\_v2', 'C:\\\\Users\\\\ASUS\\\\PycharmProjects\\\\Graph Neural Network\\\\.venv\\\\lib\\\\site-packages\\\\tensorboard\\\\summary\\\\_tf', 'C:\\\\Users\\\\ASUS\\\\PycharmProjects\\\\Graph Neural Network\\\\.venv\\\\lib\\\\site-packages\\\\tensorflow', 'C:\\\\Users\\\\ASUS\\\\PycharmProjects\\\\Graph Neural Network\\\\.venv\\\\lib\\\\site-packages\\\\tensorflow\\\\_api\\\\v2']\n"
     ]
    }
   ],
   "execution_count": 3
  },
  {
   "metadata": {
    "ExecuteTime": {
     "end_time": "2025-04-17T08:53:58.631093Z",
     "start_time": "2025-04-17T08:53:58.602032Z"
    }
   },
   "cell_type": "code",
   "source": [
    "import tensorflow as tf\n",
    "\n",
    "print(dir(tf))"
   ],
   "id": "656ec201e015b175",
   "outputs": [
    {
     "name": "stdout",
     "output_type": "stream",
     "text": [
      "['AggregationMethod', 'Assert', 'CriticalSection', 'DType', 'DeviceSpec', 'GradientTape', 'Graph', 'IndexedSlices', 'IndexedSlicesSpec', 'Module', 'Operation', 'OptionalSpec', 'RaggedTensor', 'RaggedTensorSpec', 'RegisterGradient', 'SparseTensor', 'SparseTensorSpec', 'Tensor', 'TensorArray', 'TensorArraySpec', 'TensorShape', 'TensorSpec', 'TypeSpec', 'UnconnectedGradients', 'Variable', 'VariableAggregation', 'VariableSynchronization', '_API_MODULE', '_KerasLazyLoader', '_LazyLoader', '__all__', '__builtins__', '__cached__', '__compiler_version__', '__cxx11_abi_flag__', '__cxx_version__', '__doc__', '__file__', '__git_version__', '__internal__', '__loader__', '__monolithic_build__', '__name__', '__operators__', '__package__', '__path__', '__spec__', '__version__', '_api', '_compat', '_current_file_location', '_current_module', '_distutils', '_estimator_module', '_fi', '_initializers', '_inspect', '_kernel_dir', '_ll', '_logging', '_losses', '_major_api_version', '_metrics', '_module_dir', '_module_util', '_names_with_underscore', '_optimizers', '_os', '_plugin_dir', '_running_from_pip_package', '_s', '_site', '_site_packages_dirs', '_sys', '_tf2', '_tf_api_dir', '_tf_dir', '_tf_uses_legacy_keras', '_typing', 'abs', 'acos', 'acosh', 'add', 'add_n', 'approx_top_k', 'argmax', 'argmin', 'argsort', 'as_dtype', 'as_string', 'asin', 'asinh', 'assert_equal', 'assert_greater', 'assert_less', 'assert_rank', 'atan', 'atan2', 'atanh', 'audio', 'autodiff', 'autograph', 'batch_to_space', 'bfloat16', 'bitcast', 'bitwise', 'bool', 'boolean_mask', 'broadcast_dynamic_shape', 'broadcast_static_shape', 'broadcast_to', 'case', 'cast', 'clip_by_global_norm', 'clip_by_norm', 'clip_by_value', 'compat', 'complex', 'complex128', 'complex64', 'concat', 'cond', 'config', 'constant', 'constant_initializer', 'control_dependencies', 'conv', 'conv2d_backprop_filter_v2', 'conv2d_backprop_input_v2', 'convert_to_tensor', 'cos', 'cosh', 'cumsum', 'custom_gradient', 'data', 'debugging', 'device', 'distribute', 'divide', 'double', 'dtensor', 'dtypes', 'dynamic_partition', 'dynamic_stitch', 'edit_distance', 'eig', 'eigvals', 'einsum', 'ensure_shape', 'equal', 'errors', 'estimator', 'executing_eagerly', 'exp', 'expand_dims', 'experimental', 'extract_volume_patches', 'eye', 'feature_column', 'fftnd', 'fill', 'fingerprint', 'float16', 'float32', 'float64', 'floor', 'foldl', 'foldr', 'function', 'gather', 'gather_nd', 'get_current_name_scope', 'get_logger', 'get_static_value', 'grad_pass_through', 'gradients', 'graph_util', 'greater', 'greater_equal', 'group', 'guarantee_const', 'half', 'hessians', 'histogram_fixed_width', 'histogram_fixed_width_bins', 'identity', 'identity_n', 'ifftnd', 'image', 'import_graph_def', 'init_scope', 'initializers', 'inside_function', 'int16', 'int32', 'int64', 'int8', 'io', 'irfftnd', 'is_symbolic_tensor', 'is_tensor', 'keras', 'less', 'less_equal', 'linalg', 'linspace', 'lite', 'load_library', 'load_op_library', 'logical_and', 'logical_not', 'logical_or', 'lookup', 'losses', 'make_ndarray', 'make_tensor_proto', 'map_fn', 'math', 'matmul', 'matrix_square_root', 'maximum', 'meshgrid', 'metrics', 'minimum', 'mlir', 'multiply', 'name_scope', 'negative', 'nest', 'newaxis', 'nn', 'no_gradient', 'no_op', 'nondifferentiable_batch_function', 'norm', 'not_equal', 'numpy_function', 'one_hot', 'ones', 'ones_initializer', 'ones_like', 'optimizers', 'pad', 'parallel_stack', 'pow', 'print', 'profiler', 'py_function', 'qint16', 'qint32', 'qint8', 'quantization', 'queue', 'quint16', 'quint8', 'ragged', 'ragged_fill_empty_rows', 'ragged_fill_empty_rows_grad', 'random', 'random_index_shuffle', 'random_normal_initializer', 'random_uniform_initializer', 'range', 'rank', 'raw_ops', 'realdiv', 'recompute_grad', 'reduce_all', 'reduce_any', 'reduce_logsumexp', 'reduce_max', 'reduce_mean', 'reduce_min', 'reduce_prod', 'reduce_sum', 'register_tensor_conversion_function', 'repeat', 'required_space_to_batch_paddings', 'reshape', 'resource', 'reverse', 'reverse_sequence', 'rfftnd', 'roll', 'round', 'saturate_cast', 'saved_model', 'scalar_mul', 'scan', 'scatter_nd', 'searchsorted', 'security', 'sequence_mask', 'sets', 'shape', 'shape_n', 'sigmoid', 'sign', 'signal', 'sin', 'sinh', 'size', 'slice', 'sort', 'space_to_batch', 'space_to_batch_nd', 'sparse', 'split', 'sqrt', 'square', 'squeeze', 'stack', 'stop_gradient', 'strided_slice', 'string', 'strings', 'subtract', 'summary', 'switch_case', 'sysconfig', 'tan', 'tanh', 'tensor_scatter_nd_add', 'tensor_scatter_nd_max', 'tensor_scatter_nd_min', 'tensor_scatter_nd_sub', 'tensor_scatter_nd_update', 'tensordot', 'test', 'tile', 'timestamp', 'tools', 'tpu', 'train', 'transpose', 'truediv', 'truncatediv', 'truncatemod', 'tsl', 'tuple', 'type_spec_from_value', 'types', 'uint16', 'uint32', 'uint64', 'uint8', 'unique', 'unique_with_counts', 'unravel_index', 'unstack', 'variable_creator_scope', 'variant', 'vectorized_map', 'version', 'where', 'while_loop', 'xla', 'zeros', 'zeros_initializer', 'zeros_like']\n"
     ]
    }
   ],
   "execution_count": 4
  },
  {
   "metadata": {
    "collapsed": true,
    "ExecuteTime": {
     "end_time": "2025-04-24T06:22:43.286789Z",
     "start_time": "2025-04-24T06:22:43.255174Z"
    }
   },
   "cell_type": "code",
   "source": [
    "# Tải data đã lưu\n",
    "split_file = \"splitted_data.pkl\"\n",
    "print(\"Tải dữ liệu đã lưu từ:\", split_file)\n",
    "\n",
    "with open(split_file, \"rb\") as f:\n",
    "    data_splits = pickle.load(f)\n",
    "\n",
    "# Lấy các tập dữ liệu từ dictionary\n",
    "X_train = data_splits[\"X_train\"]\n",
    "X_val = data_splits[\"X_val\"]\n",
    "X_test = data_splits[\"X_test\"]\n",
    "y_train = data_splits[\"y_train\"]\n",
    "y_val = data_splits[\"y_val\"]\n",
    "y_test = data_splits[\"y_test\"]\n",
    "X_train_val = data_splits[\"X_train_val\"]\n",
    "y_train_val = data_splits[\"y_train_val\"]"
   ],
   "id": "initial_id",
   "outputs": [
    {
     "name": "stdout",
     "output_type": "stream",
     "text": [
      "Tải dữ liệu đã lưu từ: splitted_data.pkl\n"
     ]
    }
   ],
   "execution_count": 2
  },
  {
   "metadata": {
    "ExecuteTime": {
     "end_time": "2025-04-24T06:22:45.137813Z",
     "start_time": "2025-04-24T06:22:45.122054Z"
    }
   },
   "cell_type": "code",
   "source": [
    "# Kiểm tra phân phối của lớp\n",
    "print(\"Phân phối lớp trong tập huấn luyện:\")\n",
    "unique, counts = np.unique(y_train_val, return_counts=True)\n",
    "print(dict(zip(unique, counts)))\n",
    "print(f\"Tỷ lệ dữ liệu dương/âm: 1:{counts[0]/counts[1]:.2f}\")"
   ],
   "id": "19d20e50c8905558",
   "outputs": [
    {
     "name": "stdout",
     "output_type": "stream",
     "text": [
      "Phân phối lớp trong tập huấn luyện:\n",
      "{0: 26815, 1: 169}\n",
      "Tỷ lệ dữ liệu dương/âm: 1:158.67\n"
     ]
    }
   ],
   "execution_count": 3
  },
  {
   "metadata": {
    "ExecuteTime": {
     "end_time": "2025-04-24T07:08:39.817177Z",
     "start_time": "2025-04-24T07:08:39.785528Z"
    }
   },
   "cell_type": "code",
   "source": [
    "# Áp dụng SMOTE để cân bằng dữ liệu (tùy chọn)\n",
    "# Thử nghiệm với cả 2 cách: dùng SMOTE và dùng class weight\n",
    "use_smote = False\n",
    "\n",
    "if use_smote:\n",
    "    print(\"Áp dụng SMOTE để cân bằng dữ liệu...\")\n",
    "    smote = SMOTE(random_state=42, sampling_strategy=0.5)  # Tăng lớp thiểu số lên đến 50% của lớp đa số\n",
    "    X_train_resampled, y_train_resampled = smote.fit_resample(X_train_val, y_train_val)\n",
    "    \n",
    "    print(\"Phân phối lớp sau khi áp dụng SMOTE:\")\n",
    "    unique, counts = np.unique(y_train_resampled, return_counts=True)\n",
    "    print(dict(zip(unique, counts)))\n",
    "    \n",
    "    # Sử dụng dữ liệu đã được cân bằng\n",
    "    X_train_for_model = X_train_resampled\n",
    "    y_train_for_model = y_train_resampled\n",
    "else:\n",
    "    # Tính class weight cho việc huấn luyện nếu không dùng SMOTE\n",
    "    class_weights = compute_class_weight(class_weight='balanced', classes=np.unique(y_train_val), y=y_train_val)\n",
    "    class_weights_dict = {i: class_weights[i] for i in range(len(class_weights))}\n",
    "    print(\"Class weights:\", class_weights_dict)\n",
    "    \n",
    "    # Tạo sample weights từ class_weights_dict\n",
    "    sample_weights = np.array([class_weights_dict[int(label)] for label in y_train_val])\n",
    "    \n",
    "    # Sử dụng dữ liệu gốc\n",
    "    X_train_for_model = X_train_val\n",
    "    y_train_for_model = y_train_val"
   ],
   "id": "ebf6fc310017d21d",
   "outputs": [
    {
     "name": "stdout",
     "output_type": "stream",
     "text": [
      "Class weights: {0: 0.5031512213313444, 1: 79.83431952662721}\n"
     ]
    }
   ],
   "execution_count": 28
  },
  {
   "metadata": {
    "ExecuteTime": {
     "end_time": "2025-04-24T07:16:10.085935Z",
     "start_time": "2025-04-24T07:16:10.070564Z"
    }
   },
   "cell_type": "code",
   "source": [
    "import tensorflow as tf\n",
    "from tensorflow.keras import backend as K\n",
    "\n",
    "def focal_loss(gamma=2., alpha=0.25):\n",
    "    def focal_loss_fixed(y_true, y_pred):\n",
    "        \"\"\"\n",
    "        Focal Loss cho bài toán phân loại nhị phân.\n",
    "        y_true: Ground truth (0 hoặc 1)\n",
    "        y_pred: Xác suất dự đoán (sigmoid output)\n",
    "        \"\"\"\n",
    "        epsilon = K.epsilon()\n",
    "        y_pred = K.clip(y_pred, epsilon, 1. - epsilon)\n",
    "        \n",
    "        p_t = tf.where(K.equal(y_true, 1), y_pred, 1 - y_pred)\n",
    "        alpha_factor = tf.where(K.equal(y_true, 1), alpha, 1 - alpha)\n",
    "        focal_weight = alpha_factor * K.pow(1 - p_t, gamma)\n",
    "        \n",
    "        loss = -focal_weight * K.log(p_t)\n",
    "        return K.mean(loss)\n",
    "    \n",
    "    return focal_loss_fixed"
   ],
   "id": "ce3417bb0bc0f79d",
   "outputs": [],
   "execution_count": 38
  },
  {
   "metadata": {
    "ExecuteTime": {
     "end_time": "2025-04-24T07:25:15.237631Z",
     "start_time": "2025-04-24T07:25:15.221881Z"
    }
   },
   "cell_type": "code",
   "source": [
    "from tensorflow.keras.layers import LeakyReLU\n",
    "# Khởi tạo mô hình cải tiến\n",
    "def create_improved_model(input_dim, l2_lambda=0.001):\n",
    "    model = Sequential([\n",
    "        # Tầng đầu tiên với nhiều neuron hơn và regularization\n",
    "        Dense(128, input_dim=input_dim, activation='relu', kernel_regularizer=l2(l2_lambda)),\n",
    "        BatchNormalization(),\n",
    "        Dropout(0.3),\n",
    "\n",
    "        # Tầng ẩn thứ hai\n",
    "        Dense(64, activation='relu', kernel_regularizer=l2(l2_lambda)),\n",
    "        BatchNormalization(),\n",
    "        Dropout(0.3),\n",
    "\n",
    "        # Thêm một tầng ẩn nữa\n",
    "        Dense(32, activation='relu', kernel_regularizer=l2(l2_lambda)),\n",
    "        BatchNormalization(),\n",
    "        Dropout(0.2),\n",
    "\n",
    "        # Tầng đầu ra\n",
    "        Dense(1, activation='sigmoid')\n",
    "    ])\n",
    "    \n",
    "    # model = Sequential([\n",
    "    #     Dense(128, input_dim=input_dim, kernel_regularizer=l2(l2_lambda)),\n",
    "    #     BatchNormalization(),\n",
    "    #     LeakyReLU(alpha=0.01),\n",
    "    #     Dropout(0.3),\n",
    "    # \n",
    "    #     Dense(64, kernel_regularizer=l2(l2_lambda)),\n",
    "    #     BatchNormalization(),\n",
    "    #     LeakyReLU(alpha=0.01),\n",
    "    #     Dropout(0.3),\n",
    "    # \n",
    "    #     Dense(32, kernel_regularizer=l2(l2_lambda)),\n",
    "    #     BatchNormalization(),\n",
    "    #     LeakyReLU(alpha=0.01),\n",
    "    #     Dropout(0.2),\n",
    "    # \n",
    "    #     Dense(1, activation='sigmoid')\n",
    "    # ])\n",
    "    \n",
    "    # Sử dụng optimizer Adam với learning rate thấp hơn\n",
    "    optimizer = Adam(learning_rate=0.0005)\n",
    "    \n",
    "    # Compile với các metrics phù hợp cho dữ liệu không cân bằng\n",
    "    model.compile(\n",
    "        optimizer=optimizer,\n",
    "        loss='binary_crossentropy',\n",
    "        # loss=focal_loss(gamma=2.0, alpha=0.25),\n",
    "        metrics=['accuracy', AUC(name='auc'), Precision(name='precision'), Recall(name='recall')]\n",
    "    )\n",
    "    \n",
    "    return model"
   ],
   "id": "fc5fd31e1289dd46",
   "outputs": [],
   "execution_count": 48
  },
  {
   "metadata": {
    "ExecuteTime": {
     "end_time": "2025-04-24T07:25:19.171224Z",
     "start_time": "2025-04-24T07:25:18.367809Z"
    }
   },
   "cell_type": "code",
   "source": [
    "# Tạo mô hình\n",
    "improved_model = create_improved_model(X_train.shape[1])\n",
    "\n",
    "# In kiến trúc mô hình\n",
    "improved_model.summary()\n",
    "\n",
    "# Chuẩn bị callbacks\n",
    "early_stop = EarlyStopping(\n",
    "    monitor='val_auc',\n",
    "    mode='max',\n",
    "    patience=10,\n",
    "    restore_best_weights=True,\n",
    "    verbose=1\n",
    ")\n",
    "\n",
    "reduce_lr = ReduceLROnPlateau(\n",
    "    monitor='val_loss',\n",
    "    factor=0.5,\n",
    "    patience=5,\n",
    "    min_lr=0.00001,\n",
    "    verbose=1\n",
    ")\n"
   ],
   "id": "d911dc1b591f2dbf",
   "outputs": [
    {
     "name": "stdout",
     "output_type": "stream",
     "text": [
      "Model: \"sequential_8\"\n",
      "_________________________________________________________________\n",
      " Layer (type)                Output Shape              Param #   \n",
      "=================================================================\n",
      " dense_32 (Dense)            (None, 128)               1408      \n",
      "                                                                 \n",
      " batch_normalization_24 (Ba  (None, 128)               512       \n",
      " tchNormalization)                                               \n",
      "                                                                 \n",
      " dropout_24 (Dropout)        (None, 128)               0         \n",
      "                                                                 \n",
      " dense_33 (Dense)            (None, 64)                8256      \n",
      "                                                                 \n",
      " batch_normalization_25 (Ba  (None, 64)                256       \n",
      " tchNormalization)                                               \n",
      "                                                                 \n",
      " dropout_25 (Dropout)        (None, 64)                0         \n",
      "                                                                 \n",
      " dense_34 (Dense)            (None, 32)                2080      \n",
      "                                                                 \n",
      " batch_normalization_26 (Ba  (None, 32)                128       \n",
      " tchNormalization)                                               \n",
      "                                                                 \n",
      " dropout_26 (Dropout)        (None, 32)                0         \n",
      "                                                                 \n",
      " dense_35 (Dense)            (None, 1)                 33        \n",
      "                                                                 \n",
      "=================================================================\n",
      "Total params: 12673 (49.50 KB)\n",
      "Trainable params: 12225 (47.75 KB)\n",
      "Non-trainable params: 448 (1.75 KB)\n",
      "_________________________________________________________________\n"
     ]
    }
   ],
   "execution_count": 49
  },
  {
   "metadata": {
    "ExecuteTime": {
     "end_time": "2025-04-24T07:25:44.365476Z",
     "start_time": "2025-04-24T07:25:21.486406Z"
    }
   },
   "cell_type": "code",
   "source": [
    "# Huấn luyện mô hình\n",
    "if use_smote:\n",
    "    # Huấn luyện với dữ liệu SMOTE, không cần sample_weight\n",
    "    history = improved_model.fit(\n",
    "        X_train_for_model, y_train_for_model,\n",
    "        validation_data=(X_val, y_val),\n",
    "        epochs=100,\n",
    "        batch_size=1024,\n",
    "        callbacks=[early_stop, reduce_lr],\n",
    "        verbose=2\n",
    "    )\n",
    "else:\n",
    "    # Huấn luyện với sample_weight\n",
    "    history = improved_model.fit(\n",
    "        X_train_for_model, y_train_for_model,\n",
    "        validation_data=(X_val, y_val),\n",
    "        epochs=100,\n",
    "        batch_size=1024,\n",
    "        sample_weight=sample_weights,\n",
    "        callbacks=[early_stop, reduce_lr],\n",
    "        verbose=2\n",
    "    )\n",
    "\n",
    "\n",
    "# Dự đoán xác suất trên tập test\n",
    "y_pred_proba = improved_model.predict(X_test)"
   ],
   "id": "e4c1dc582fa6151c",
   "outputs": [
    {
     "name": "stdout",
     "output_type": "stream",
     "text": [
      "Epoch 1/100\n",
      "27/27 - 2s - loss: 0.9010 - accuracy: 0.5671 - auc: 0.6119 - precision: 0.0088 - recall: 0.6095 - val_loss: 0.9788 - val_accuracy: 0.6352 - val_auc: 0.7092 - val_precision: 0.0113 - val_recall: 0.6667 - lr: 5.0000e-04 - 2s/epoch - 79ms/step\n",
      "Epoch 2/100\n",
      "27/27 - 0s - loss: 0.8320 - accuracy: 0.5846 - auc: 0.6802 - precision: 0.0099 - recall: 0.6627 - val_loss: 0.8260 - val_accuracy: 0.8796 - val_auc: 0.7199 - val_precision: 0.0282 - val_recall: 0.5476 - lr: 5.0000e-04 - 192ms/epoch - 7ms/step\n",
      "Epoch 3/100\n",
      "27/27 - 0s - loss: 0.8281 - accuracy: 0.6112 - auc: 0.6848 - precision: 0.0100 - recall: 0.6213 - val_loss: 0.7413 - val_accuracy: 0.9017 - val_auc: 0.7322 - val_precision: 0.0331 - val_recall: 0.5238 - lr: 5.0000e-04 - 193ms/epoch - 7ms/step\n",
      "Epoch 4/100\n",
      "27/27 - 0s - loss: 0.7980 - accuracy: 0.6452 - auc: 0.7294 - precision: 0.0119 - recall: 0.6805 - val_loss: 0.7007 - val_accuracy: 0.9097 - val_auc: 0.7442 - val_precision: 0.0329 - val_recall: 0.4762 - lr: 5.0000e-04 - 220ms/epoch - 8ms/step\n",
      "Epoch 5/100\n",
      "27/27 - 0s - loss: 0.7806 - accuracy: 0.6649 - auc: 0.7317 - precision: 0.0126 - recall: 0.6805 - val_loss: 0.6636 - val_accuracy: 0.9124 - val_auc: 0.7601 - val_precision: 0.0355 - val_recall: 0.5000 - lr: 5.0000e-04 - 208ms/epoch - 8ms/step\n",
      "Epoch 6/100\n",
      "27/27 - 0s - loss: 0.7911 - accuracy: 0.6818 - auc: 0.7169 - precision: 0.0126 - recall: 0.6450 - val_loss: 0.6444 - val_accuracy: 0.9198 - val_auc: 0.7804 - val_precision: 0.0371 - val_recall: 0.4762 - lr: 5.0000e-04 - 199ms/epoch - 7ms/step\n",
      "Epoch 7/100\n",
      "27/27 - 0s - loss: 0.8104 - accuracy: 0.7006 - auc: 0.7156 - precision: 0.0127 - recall: 0.6095 - val_loss: 0.6551 - val_accuracy: 0.9065 - val_auc: 0.7910 - val_precision: 0.0362 - val_recall: 0.5476 - lr: 5.0000e-04 - 207ms/epoch - 8ms/step\n",
      "Epoch 8/100\n",
      "27/27 - 0s - loss: 0.7581 - accuracy: 0.7246 - auc: 0.7566 - precision: 0.0160 - recall: 0.7101 - val_loss: 0.6745 - val_accuracy: 0.9016 - val_auc: 0.8054 - val_precision: 0.0344 - val_recall: 0.5476 - lr: 5.0000e-04 - 190ms/epoch - 7ms/step\n",
      "Epoch 9/100\n",
      "27/27 - 0s - loss: 0.7874 - accuracy: 0.7261 - auc: 0.7274 - precision: 0.0150 - recall: 0.6627 - val_loss: 0.6762 - val_accuracy: 0.8764 - val_auc: 0.8161 - val_precision: 0.0308 - val_recall: 0.6190 - lr: 5.0000e-04 - 237ms/epoch - 9ms/step\n",
      "Epoch 10/100\n",
      "27/27 - 0s - loss: 0.7277 - accuracy: 0.7387 - auc: 0.7760 - precision: 0.0163 - recall: 0.6864 - val_loss: 0.6922 - val_accuracy: 0.8577 - val_auc: 0.8068 - val_precision: 0.0287 - val_recall: 0.6667 - lr: 5.0000e-04 - 210ms/epoch - 8ms/step\n",
      "Epoch 11/100\n",
      "\n",
      "Epoch 11: ReduceLROnPlateau reducing learning rate to 0.0002500000118743628.\n",
      "27/27 - 0s - loss: 0.7669 - accuracy: 0.7421 - auc: 0.7713 - precision: 0.0164 - recall: 0.6805 - val_loss: 0.6810 - val_accuracy: 0.8494 - val_auc: 0.7974 - val_precision: 0.0281 - val_recall: 0.6905 - lr: 5.0000e-04 - 205ms/epoch - 8ms/step\n",
      "Epoch 12/100\n",
      "27/27 - 0s - loss: 0.7391 - accuracy: 0.7406 - auc: 0.7566 - precision: 0.0162 - recall: 0.6746 - val_loss: 0.6837 - val_accuracy: 0.8503 - val_auc: 0.8073 - val_precision: 0.0283 - val_recall: 0.6905 - lr: 2.5000e-04 - 270ms/epoch - 10ms/step\n",
      "Epoch 13/100\n",
      "27/27 - 0s - loss: 0.7141 - accuracy: 0.7406 - auc: 0.7935 - precision: 0.0168 - recall: 0.7041 - val_loss: 0.6799 - val_accuracy: 0.8433 - val_auc: 0.8068 - val_precision: 0.0279 - val_recall: 0.7143 - lr: 2.5000e-04 - 208ms/epoch - 8ms/step\n",
      "Epoch 14/100\n",
      "27/27 - 0s - loss: 0.6964 - accuracy: 0.7444 - auc: 0.8090 - precision: 0.0172 - recall: 0.7101 - val_loss: 0.6770 - val_accuracy: 0.8395 - val_auc: 0.8123 - val_precision: 0.0272 - val_recall: 0.7143 - lr: 2.5000e-04 - 194ms/epoch - 7ms/step\n",
      "Epoch 15/100\n",
      "27/27 - 0s - loss: 0.7020 - accuracy: 0.7534 - auc: 0.8004 - precision: 0.0180 - recall: 0.7160 - val_loss: 0.6766 - val_accuracy: 0.8412 - val_auc: 0.8203 - val_precision: 0.0275 - val_recall: 0.7143 - lr: 2.5000e-04 - 217ms/epoch - 8ms/step\n",
      "Epoch 16/100\n",
      "\n",
      "Epoch 16: ReduceLROnPlateau reducing learning rate to 0.0001250000059371814.\n",
      "27/27 - 0s - loss: 0.6947 - accuracy: 0.7587 - auc: 0.8038 - precision: 0.0184 - recall: 0.7160 - val_loss: 0.6957 - val_accuracy: 0.8223 - val_auc: 0.8186 - val_precision: 0.0254 - val_recall: 0.7381 - lr: 2.5000e-04 - 185ms/epoch - 7ms/step\n",
      "Epoch 17/100\n",
      "27/27 - 0s - loss: 0.6883 - accuracy: 0.7581 - auc: 0.8067 - precision: 0.0188 - recall: 0.7337 - val_loss: 0.7058 - val_accuracy: 0.8159 - val_auc: 0.8205 - val_precision: 0.0246 - val_recall: 0.7381 - lr: 1.2500e-04 - 209ms/epoch - 8ms/step\n",
      "Epoch 18/100\n",
      "27/27 - 0s - loss: 0.7563 - accuracy: 0.7602 - auc: 0.7698 - precision: 0.0178 - recall: 0.6864 - val_loss: 0.7167 - val_accuracy: 0.8194 - val_auc: 0.8097 - val_precision: 0.0243 - val_recall: 0.7143 - lr: 1.2500e-04 - 236ms/epoch - 9ms/step\n",
      "Epoch 19/100\n",
      "27/27 - 0s - loss: 0.6995 - accuracy: 0.7626 - auc: 0.8137 - precision: 0.0193 - recall: 0.7396 - val_loss: 0.6830 - val_accuracy: 0.8369 - val_auc: 0.8116 - val_precision: 0.0268 - val_recall: 0.7143 - lr: 1.2500e-04 - 198ms/epoch - 7ms/step\n",
      "Epoch 20/100\n",
      "27/27 - 0s - loss: 0.6923 - accuracy: 0.7658 - auc: 0.8069 - precision: 0.0192 - recall: 0.7278 - val_loss: 0.6842 - val_accuracy: 0.8326 - val_auc: 0.8177 - val_precision: 0.0262 - val_recall: 0.7143 - lr: 1.2500e-04 - 190ms/epoch - 7ms/step\n",
      "Epoch 21/100\n",
      "\n",
      "Epoch 21: ReduceLROnPlateau reducing learning rate to 6.25000029685907e-05.\n",
      "27/27 - 0s - loss: 0.7024 - accuracy: 0.7695 - auc: 0.8201 - precision: 0.0197 - recall: 0.7337 - val_loss: 0.6879 - val_accuracy: 0.8318 - val_auc: 0.8214 - val_precision: 0.0268 - val_recall: 0.7381 - lr: 1.2500e-04 - 189ms/epoch - 7ms/step\n",
      "Epoch 22/100\n",
      "27/27 - 0s - loss: 0.6983 - accuracy: 0.7636 - auc: 0.8372 - precision: 0.0201 - recall: 0.7692 - val_loss: 0.6956 - val_accuracy: 0.8289 - val_auc: 0.8216 - val_precision: 0.0272 - val_recall: 0.7619 - lr: 6.2500e-05 - 210ms/epoch - 8ms/step\n",
      "Epoch 23/100\n",
      "27/27 - 0s - loss: 0.6904 - accuracy: 0.7691 - auc: 0.8183 - precision: 0.0192 - recall: 0.7160 - val_loss: 0.6942 - val_accuracy: 0.8282 - val_auc: 0.8273 - val_precision: 0.0279 - val_recall: 0.7857 - lr: 6.2500e-05 - 201ms/epoch - 7ms/step\n",
      "Epoch 24/100\n",
      "27/27 - 0s - loss: 0.6965 - accuracy: 0.7727 - auc: 0.8123 - precision: 0.0193 - recall: 0.7101 - val_loss: 0.7004 - val_accuracy: 0.8251 - val_auc: 0.8307 - val_precision: 0.0274 - val_recall: 0.7857 - lr: 6.2500e-05 - 198ms/epoch - 7ms/step\n",
      "Epoch 25/100\n",
      "27/27 - 0s - loss: 0.6670 - accuracy: 0.7709 - auc: 0.8312 - precision: 0.0206 - recall: 0.7633 - val_loss: 0.7017 - val_accuracy: 0.8252 - val_auc: 0.8339 - val_precision: 0.0274 - val_recall: 0.7857 - lr: 6.2500e-05 - 191ms/epoch - 7ms/step\n",
      "Epoch 26/100\n",
      "\n",
      "Epoch 26: ReduceLROnPlateau reducing learning rate to 3.125000148429535e-05.\n",
      "27/27 - 0s - loss: 0.6799 - accuracy: 0.7715 - auc: 0.8341 - precision: 0.0208 - recall: 0.7692 - val_loss: 0.6962 - val_accuracy: 0.8270 - val_auc: 0.8345 - val_precision: 0.0277 - val_recall: 0.7857 - lr: 6.2500e-05 - 180ms/epoch - 7ms/step\n",
      "Epoch 27/100\n",
      "27/27 - 0s - loss: 0.6647 - accuracy: 0.7730 - auc: 0.8350 - precision: 0.0204 - recall: 0.7515 - val_loss: 0.6947 - val_accuracy: 0.8298 - val_auc: 0.8363 - val_precision: 0.0282 - val_recall: 0.7857 - lr: 3.1250e-05 - 190ms/epoch - 7ms/step\n",
      "Epoch 28/100\n",
      "27/27 - 0s - loss: 0.6568 - accuracy: 0.7716 - auc: 0.8387 - precision: 0.0211 - recall: 0.7811 - val_loss: 0.6972 - val_accuracy: 0.8291 - val_auc: 0.8373 - val_precision: 0.0280 - val_recall: 0.7857 - lr: 3.1250e-05 - 197ms/epoch - 7ms/step\n",
      "Epoch 29/100\n",
      "27/27 - 0s - loss: 0.6912 - accuracy: 0.7760 - auc: 0.8279 - precision: 0.0201 - recall: 0.7278 - val_loss: 0.7043 - val_accuracy: 0.8288 - val_auc: 0.8367 - val_precision: 0.0280 - val_recall: 0.7857 - lr: 3.1250e-05 - 188ms/epoch - 7ms/step\n",
      "Epoch 30/100\n",
      "27/27 - 0s - loss: 0.6798 - accuracy: 0.7747 - auc: 0.8131 - precision: 0.0201 - recall: 0.7337 - val_loss: 0.7018 - val_accuracy: 0.8294 - val_auc: 0.8385 - val_precision: 0.0281 - val_recall: 0.7857 - lr: 3.1250e-05 - 189ms/epoch - 7ms/step\n",
      "Epoch 31/100\n",
      "\n",
      "Epoch 31: ReduceLROnPlateau reducing learning rate to 1.5625000742147677e-05.\n",
      "27/27 - 0s - loss: 0.6886 - accuracy: 0.7748 - auc: 0.8138 - precision: 0.0205 - recall: 0.7456 - val_loss: 0.6966 - val_accuracy: 0.8309 - val_auc: 0.8416 - val_precision: 0.0283 - val_recall: 0.7857 - lr: 3.1250e-05 - 190ms/epoch - 7ms/step\n",
      "Epoch 32/100\n",
      "27/27 - 0s - loss: 0.7069 - accuracy: 0.7772 - auc: 0.8238 - precision: 0.0213 - recall: 0.7692 - val_loss: 0.6993 - val_accuracy: 0.8276 - val_auc: 0.8448 - val_precision: 0.0278 - val_recall: 0.7857 - lr: 1.5625e-05 - 194ms/epoch - 7ms/step\n",
      "Epoch 33/100\n",
      "27/27 - 0s - loss: 0.6977 - accuracy: 0.7771 - auc: 0.7958 - precision: 0.0194 - recall: 0.6982 - val_loss: 0.6992 - val_accuracy: 0.8294 - val_auc: 0.8476 - val_precision: 0.0281 - val_recall: 0.7857 - lr: 1.5625e-05 - 205ms/epoch - 8ms/step\n",
      "Epoch 34/100\n",
      "27/27 - 0s - loss: 0.6837 - accuracy: 0.7685 - auc: 0.8199 - precision: 0.0199 - recall: 0.7456 - val_loss: 0.7011 - val_accuracy: 0.8292 - val_auc: 0.8496 - val_precision: 0.0281 - val_recall: 0.7857 - lr: 1.5625e-05 - 195ms/epoch - 7ms/step\n",
      "Epoch 35/100\n",
      "27/27 - 0s - loss: 0.6687 - accuracy: 0.7767 - auc: 0.8278 - precision: 0.0205 - recall: 0.7396 - val_loss: 0.6984 - val_accuracy: 0.8323 - val_auc: 0.8533 - val_precision: 0.0286 - val_recall: 0.7857 - lr: 1.5625e-05 - 195ms/epoch - 7ms/step\n",
      "Epoch 36/100\n",
      "\n",
      "Epoch 36: ReduceLROnPlateau reducing learning rate to 1e-05.\n",
      "27/27 - 0s - loss: 0.7262 - accuracy: 0.7716 - auc: 0.8168 - precision: 0.0191 - recall: 0.7041 - val_loss: 0.6905 - val_accuracy: 0.8366 - val_auc: 0.8563 - val_precision: 0.0293 - val_recall: 0.7857 - lr: 1.5625e-05 - 189ms/epoch - 7ms/step\n",
      "Epoch 37/100\n",
      "27/27 - 0s - loss: 0.7009 - accuracy: 0.7823 - auc: 0.8223 - precision: 0.0205 - recall: 0.7219 - val_loss: 0.6826 - val_accuracy: 0.8414 - val_auc: 0.8599 - val_precision: 0.0302 - val_recall: 0.7857 - lr: 1.0000e-05 - 190ms/epoch - 7ms/step\n",
      "Epoch 38/100\n",
      "27/27 - 0s - loss: 0.7010 - accuracy: 0.7741 - auc: 0.8142 - precision: 0.0199 - recall: 0.7278 - val_loss: 0.6822 - val_accuracy: 0.8406 - val_auc: 0.8619 - val_precision: 0.0300 - val_recall: 0.7857 - lr: 1.0000e-05 - 190ms/epoch - 7ms/step\n",
      "Epoch 39/100\n",
      "27/27 - 0s - loss: 0.6724 - accuracy: 0.7696 - auc: 0.8251 - precision: 0.0200 - recall: 0.7456 - val_loss: 0.6753 - val_accuracy: 0.8446 - val_auc: 0.8663 - val_precision: 0.0308 - val_recall: 0.7857 - lr: 1.0000e-05 - 197ms/epoch - 7ms/step\n",
      "Epoch 40/100\n",
      "27/27 - 0s - loss: 0.6834 - accuracy: 0.7803 - auc: 0.8234 - precision: 0.0200 - recall: 0.7101 - val_loss: 0.6754 - val_accuracy: 0.8438 - val_auc: 0.8688 - val_precision: 0.0306 - val_recall: 0.7857 - lr: 1.0000e-05 - 201ms/epoch - 7ms/step\n",
      "Epoch 41/100\n",
      "27/27 - 0s - loss: 0.6406 - accuracy: 0.7773 - auc: 0.8525 - precision: 0.0219 - recall: 0.7929 - val_loss: 0.6735 - val_accuracy: 0.8444 - val_auc: 0.8709 - val_precision: 0.0307 - val_recall: 0.7857 - lr: 1.0000e-05 - 220ms/epoch - 8ms/step\n",
      "Epoch 42/100\n",
      "27/27 - 0s - loss: 0.6682 - accuracy: 0.7740 - auc: 0.8332 - precision: 0.0204 - recall: 0.7456 - val_loss: 0.6708 - val_accuracy: 0.8463 - val_auc: 0.8725 - val_precision: 0.0311 - val_recall: 0.7857 - lr: 1.0000e-05 - 203ms/epoch - 8ms/step\n",
      "Epoch 43/100\n",
      "27/27 - 0s - loss: 0.7190 - accuracy: 0.7754 - auc: 0.8195 - precision: 0.0208 - recall: 0.7574 - val_loss: 0.6680 - val_accuracy: 0.8470 - val_auc: 0.8757 - val_precision: 0.0312 - val_recall: 0.7857 - lr: 1.0000e-05 - 206ms/epoch - 8ms/step\n",
      "Epoch 44/100\n",
      "27/27 - 0s - loss: 0.6724 - accuracy: 0.7786 - auc: 0.8392 - precision: 0.0218 - recall: 0.7811 - val_loss: 0.6707 - val_accuracy: 0.8448 - val_auc: 0.8775 - val_precision: 0.0308 - val_recall: 0.7857 - lr: 1.0000e-05 - 211ms/epoch - 8ms/step\n",
      "Epoch 45/100\n",
      "27/27 - 0s - loss: 0.6682 - accuracy: 0.7731 - auc: 0.8317 - precision: 0.0205 - recall: 0.7515 - val_loss: 0.6665 - val_accuracy: 0.8472 - val_auc: 0.8790 - val_precision: 0.0313 - val_recall: 0.7857 - lr: 1.0000e-05 - 200ms/epoch - 7ms/step\n",
      "Epoch 46/100\n",
      "27/27 - 0s - loss: 0.6801 - accuracy: 0.7759 - auc: 0.8289 - precision: 0.0212 - recall: 0.7692 - val_loss: 0.6642 - val_accuracy: 0.8470 - val_auc: 0.8801 - val_precision: 0.0304 - val_recall: 0.7619 - lr: 1.0000e-05 - 221ms/epoch - 8ms/step\n",
      "Epoch 47/100\n",
      "27/27 - 0s - loss: 0.6514 - accuracy: 0.7741 - auc: 0.8467 - precision: 0.0209 - recall: 0.7633 - val_loss: 0.6687 - val_accuracy: 0.8445 - val_auc: 0.8789 - val_precision: 0.0308 - val_recall: 0.7857 - lr: 1.0000e-05 - 189ms/epoch - 7ms/step\n",
      "Epoch 48/100\n",
      "27/27 - 0s - loss: 0.6684 - accuracy: 0.7765 - auc: 0.8282 - precision: 0.0208 - recall: 0.7515 - val_loss: 0.6699 - val_accuracy: 0.8433 - val_auc: 0.8789 - val_precision: 0.0305 - val_recall: 0.7857 - lr: 1.0000e-05 - 205ms/epoch - 8ms/step\n",
      "Epoch 49/100\n",
      "27/27 - 0s - loss: 0.6937 - accuracy: 0.7766 - auc: 0.8349 - precision: 0.0214 - recall: 0.7751 - val_loss: 0.6673 - val_accuracy: 0.8432 - val_auc: 0.8808 - val_precision: 0.0305 - val_recall: 0.7857 - lr: 1.0000e-05 - 206ms/epoch - 8ms/step\n",
      "Epoch 50/100\n",
      "27/27 - 0s - loss: 0.6670 - accuracy: 0.7775 - auc: 0.8242 - precision: 0.0205 - recall: 0.7396 - val_loss: 0.6673 - val_accuracy: 0.8436 - val_auc: 0.8819 - val_precision: 0.0306 - val_recall: 0.7857 - lr: 1.0000e-05 - 210ms/epoch - 8ms/step\n",
      "Epoch 51/100\n",
      "27/27 - 0s - loss: 0.6675 - accuracy: 0.7743 - auc: 0.8446 - precision: 0.0217 - recall: 0.7929 - val_loss: 0.6715 - val_accuracy: 0.8420 - val_auc: 0.8827 - val_precision: 0.0303 - val_recall: 0.7857 - lr: 1.0000e-05 - 194ms/epoch - 7ms/step\n",
      "Epoch 52/100\n",
      "27/27 - 0s - loss: 0.6616 - accuracy: 0.7775 - auc: 0.8304 - precision: 0.0209 - recall: 0.7515 - val_loss: 0.6716 - val_accuracy: 0.8424 - val_auc: 0.8829 - val_precision: 0.0304 - val_recall: 0.7857 - lr: 1.0000e-05 - 198ms/epoch - 7ms/step\n",
      "Epoch 53/100\n",
      "27/27 - 0s - loss: 0.6569 - accuracy: 0.7803 - auc: 0.8419 - precision: 0.0216 - recall: 0.7692 - val_loss: 0.6664 - val_accuracy: 0.8442 - val_auc: 0.8855 - val_precision: 0.0298 - val_recall: 0.7619 - lr: 1.0000e-05 - 189ms/epoch - 7ms/step\n",
      "Epoch 54/100\n",
      "27/27 - 0s - loss: 0.6615 - accuracy: 0.7768 - auc: 0.8464 - precision: 0.0222 - recall: 0.8047 - val_loss: 0.6621 - val_accuracy: 0.8445 - val_auc: 0.8851 - val_precision: 0.0299 - val_recall: 0.7619 - lr: 1.0000e-05 - 190ms/epoch - 7ms/step\n",
      "Epoch 55/100\n",
      "27/27 - 0s - loss: 0.6649 - accuracy: 0.7758 - auc: 0.8252 - precision: 0.0205 - recall: 0.7456 - val_loss: 0.6655 - val_accuracy: 0.8415 - val_auc: 0.8863 - val_precision: 0.0293 - val_recall: 0.7619 - lr: 1.0000e-05 - 209ms/epoch - 8ms/step\n",
      "Epoch 56/100\n",
      "27/27 - 0s - loss: 0.6701 - accuracy: 0.7745 - auc: 0.8396 - precision: 0.0206 - recall: 0.7515 - val_loss: 0.6701 - val_accuracy: 0.8395 - val_auc: 0.8861 - val_precision: 0.0290 - val_recall: 0.7619 - lr: 1.0000e-05 - 220ms/epoch - 8ms/step\n",
      "Epoch 57/100\n",
      "27/27 - 0s - loss: 0.7095 - accuracy: 0.7767 - auc: 0.8119 - precision: 0.0203 - recall: 0.7337 - val_loss: 0.6659 - val_accuracy: 0.8406 - val_auc: 0.8866 - val_precision: 0.0292 - val_recall: 0.7619 - lr: 1.0000e-05 - 201ms/epoch - 7ms/step\n",
      "Epoch 58/100\n",
      "27/27 - 0s - loss: 0.6478 - accuracy: 0.7794 - auc: 0.8454 - precision: 0.0215 - recall: 0.7692 - val_loss: 0.6646 - val_accuracy: 0.8415 - val_auc: 0.8868 - val_precision: 0.0293 - val_recall: 0.7619 - lr: 1.0000e-05 - 189ms/epoch - 7ms/step\n",
      "Epoch 59/100\n",
      "27/27 - 0s - loss: 0.6768 - accuracy: 0.7745 - auc: 0.8366 - precision: 0.0206 - recall: 0.7515 - val_loss: 0.6659 - val_accuracy: 0.8402 - val_auc: 0.8868 - val_precision: 0.0291 - val_recall: 0.7619 - lr: 1.0000e-05 - 189ms/epoch - 7ms/step\n",
      "Epoch 60/100\n",
      "27/27 - 0s - loss: 0.6513 - accuracy: 0.7791 - auc: 0.8444 - precision: 0.0218 - recall: 0.7811 - val_loss: 0.6682 - val_accuracy: 0.8375 - val_auc: 0.8869 - val_precision: 0.0286 - val_recall: 0.7619 - lr: 1.0000e-05 - 183ms/epoch - 7ms/step\n",
      "Epoch 61/100\n",
      "27/27 - 0s - loss: 0.6695 - accuracy: 0.7754 - auc: 0.8316 - precision: 0.0205 - recall: 0.7456 - val_loss: 0.6691 - val_accuracy: 0.8366 - val_auc: 0.8872 - val_precision: 0.0285 - val_recall: 0.7619 - lr: 1.0000e-05 - 189ms/epoch - 7ms/step\n",
      "Epoch 62/100\n",
      "27/27 - 0s - loss: 0.6557 - accuracy: 0.7730 - auc: 0.8423 - precision: 0.0209 - recall: 0.7692 - val_loss: 0.6699 - val_accuracy: 0.8352 - val_auc: 0.8871 - val_precision: 0.0282 - val_recall: 0.7619 - lr: 1.0000e-05 - 182ms/epoch - 7ms/step\n",
      "Epoch 63/100\n",
      "27/27 - 0s - loss: 0.7002 - accuracy: 0.7786 - auc: 0.8164 - precision: 0.0208 - recall: 0.7456 - val_loss: 0.6682 - val_accuracy: 0.8377 - val_auc: 0.8875 - val_precision: 0.0286 - val_recall: 0.7619 - lr: 1.0000e-05 - 190ms/epoch - 7ms/step\n",
      "Epoch 64/100\n",
      "27/27 - 0s - loss: 0.7162 - accuracy: 0.7784 - auc: 0.8084 - precision: 0.0201 - recall: 0.7219 - val_loss: 0.6629 - val_accuracy: 0.8392 - val_auc: 0.8881 - val_precision: 0.0289 - val_recall: 0.7619 - lr: 1.0000e-05 - 197ms/epoch - 7ms/step\n",
      "Epoch 65/100\n",
      "27/27 - 0s - loss: 0.6766 - accuracy: 0.7769 - auc: 0.8215 - precision: 0.0210 - recall: 0.7574 - val_loss: 0.6619 - val_accuracy: 0.8398 - val_auc: 0.8883 - val_precision: 0.0290 - val_recall: 0.7619 - lr: 1.0000e-05 - 199ms/epoch - 7ms/step\n",
      "Epoch 66/100\n",
      "27/27 - 0s - loss: 0.6859 - accuracy: 0.7806 - auc: 0.8338 - precision: 0.0210 - recall: 0.7456 - val_loss: 0.6618 - val_accuracy: 0.8393 - val_auc: 0.8904 - val_precision: 0.0289 - val_recall: 0.7619 - lr: 1.0000e-05 - 189ms/epoch - 7ms/step\n",
      "Epoch 67/100\n",
      "27/27 - 0s - loss: 0.6551 - accuracy: 0.7798 - auc: 0.8444 - precision: 0.0214 - recall: 0.7633 - val_loss: 0.6619 - val_accuracy: 0.8393 - val_auc: 0.8899 - val_precision: 0.0289 - val_recall: 0.7619 - lr: 1.0000e-05 - 190ms/epoch - 7ms/step\n",
      "Epoch 68/100\n",
      "27/27 - 0s - loss: 0.7053 - accuracy: 0.7797 - auc: 0.8083 - precision: 0.0206 - recall: 0.7337 - val_loss: 0.6624 - val_accuracy: 0.8398 - val_auc: 0.8897 - val_precision: 0.0290 - val_recall: 0.7619 - lr: 1.0000e-05 - 205ms/epoch - 8ms/step\n",
      "Epoch 69/100\n",
      "27/27 - 0s - loss: 0.6587 - accuracy: 0.7779 - auc: 0.8381 - precision: 0.0217 - recall: 0.7811 - val_loss: 0.6585 - val_accuracy: 0.8412 - val_auc: 0.8908 - val_precision: 0.0293 - val_recall: 0.7619 - lr: 1.0000e-05 - 190ms/epoch - 7ms/step\n",
      "Epoch 70/100\n",
      "27/27 - 0s - loss: 0.6695 - accuracy: 0.7774 - auc: 0.8329 - precision: 0.0199 - recall: 0.7160 - val_loss: 0.6587 - val_accuracy: 0.8414 - val_auc: 0.8912 - val_precision: 0.0293 - val_recall: 0.7619 - lr: 1.0000e-05 - 195ms/epoch - 7ms/step\n",
      "Epoch 71/100\n",
      "27/27 - 0s - loss: 0.6833 - accuracy: 0.7790 - auc: 0.8179 - precision: 0.0205 - recall: 0.7337 - val_loss: 0.6574 - val_accuracy: 0.8424 - val_auc: 0.8928 - val_precision: 0.0295 - val_recall: 0.7619 - lr: 1.0000e-05 - 185ms/epoch - 7ms/step\n",
      "Epoch 72/100\n",
      "27/27 - 0s - loss: 0.6613 - accuracy: 0.7806 - auc: 0.8446 - precision: 0.0213 - recall: 0.7574 - val_loss: 0.6592 - val_accuracy: 0.8395 - val_auc: 0.8918 - val_precision: 0.0290 - val_recall: 0.7619 - lr: 1.0000e-05 - 194ms/epoch - 7ms/step\n",
      "Epoch 73/100\n",
      "27/27 - 0s - loss: 0.6653 - accuracy: 0.7814 - auc: 0.8305 - precision: 0.0207 - recall: 0.7337 - val_loss: 0.6624 - val_accuracy: 0.8392 - val_auc: 0.8926 - val_precision: 0.0289 - val_recall: 0.7619 - lr: 1.0000e-05 - 200ms/epoch - 7ms/step\n",
      "Epoch 74/100\n",
      "27/27 - 0s - loss: 0.6863 - accuracy: 0.7792 - auc: 0.8182 - precision: 0.0201 - recall: 0.7160 - val_loss: 0.6662 - val_accuracy: 0.8368 - val_auc: 0.8911 - val_precision: 0.0285 - val_recall: 0.7619 - lr: 1.0000e-05 - 190ms/epoch - 7ms/step\n",
      "Epoch 75/100\n",
      "27/27 - 0s - loss: 0.6654 - accuracy: 0.7808 - auc: 0.8328 - precision: 0.0208 - recall: 0.7396 - val_loss: 0.6644 - val_accuracy: 0.8368 - val_auc: 0.8914 - val_precision: 0.0285 - val_recall: 0.7619 - lr: 1.0000e-05 - 199ms/epoch - 7ms/step\n",
      "Epoch 76/100\n",
      "27/27 - 0s - loss: 0.6761 - accuracy: 0.7771 - auc: 0.8160 - precision: 0.0199 - recall: 0.7160 - val_loss: 0.6653 - val_accuracy: 0.8362 - val_auc: 0.8920 - val_precision: 0.0284 - val_recall: 0.7619 - lr: 1.0000e-05 - 184ms/epoch - 7ms/step\n",
      "Epoch 77/100\n",
      "27/27 - 0s - loss: 0.6646 - accuracy: 0.7782 - auc: 0.8297 - precision: 0.0206 - recall: 0.7396 - val_loss: 0.6649 - val_accuracy: 0.8363 - val_auc: 0.8918 - val_precision: 0.0284 - val_recall: 0.7619 - lr: 1.0000e-05 - 190ms/epoch - 7ms/step\n",
      "Epoch 78/100\n",
      "27/27 - 0s - loss: 0.6393 - accuracy: 0.7774 - auc: 0.8584 - precision: 0.0224 - recall: 0.8107 - val_loss: 0.6615 - val_accuracy: 0.8372 - val_auc: 0.8930 - val_precision: 0.0286 - val_recall: 0.7619 - lr: 1.0000e-05 - 221ms/epoch - 8ms/step\n",
      "Epoch 79/100\n",
      "27/27 - 0s - loss: 0.6914 - accuracy: 0.7769 - auc: 0.8164 - precision: 0.0199 - recall: 0.7160 - val_loss: 0.6618 - val_accuracy: 0.8380 - val_auc: 0.8919 - val_precision: 0.0287 - val_recall: 0.7619 - lr: 1.0000e-05 - 189ms/epoch - 7ms/step\n",
      "Epoch 80/100\n",
      "27/27 - 0s - loss: 0.6609 - accuracy: 0.7804 - auc: 0.8531 - precision: 0.0221 - recall: 0.7870 - val_loss: 0.6626 - val_accuracy: 0.8362 - val_auc: 0.8916 - val_precision: 0.0284 - val_recall: 0.7619 - lr: 1.0000e-05 - 193ms/epoch - 7ms/step\n",
      "Epoch 81/100\n",
      "27/27 - 0s - loss: 0.6535 - accuracy: 0.7791 - auc: 0.8443 - precision: 0.0215 - recall: 0.7692 - val_loss: 0.6656 - val_accuracy: 0.8353 - val_auc: 0.8908 - val_precision: 0.0282 - val_recall: 0.7619 - lr: 1.0000e-05 - 190ms/epoch - 7ms/step\n",
      "Epoch 82/100\n",
      "27/27 - 0s - loss: 0.6514 - accuracy: 0.7812 - auc: 0.8404 - precision: 0.0209 - recall: 0.7396 - val_loss: 0.6631 - val_accuracy: 0.8369 - val_auc: 0.8917 - val_precision: 0.0285 - val_recall: 0.7619 - lr: 1.0000e-05 - 194ms/epoch - 7ms/step\n",
      "Epoch 83/100\n",
      "27/27 - 0s - loss: 0.7039 - accuracy: 0.7773 - auc: 0.8192 - precision: 0.0199 - recall: 0.7160 - val_loss: 0.6627 - val_accuracy: 0.8365 - val_auc: 0.8927 - val_precision: 0.0284 - val_recall: 0.7619 - lr: 1.0000e-05 - 198ms/epoch - 7ms/step\n",
      "Epoch 84/100\n",
      "27/27 - 0s - loss: 0.6430 - accuracy: 0.7816 - auc: 0.8463 - precision: 0.0220 - recall: 0.7811 - val_loss: 0.6622 - val_accuracy: 0.8369 - val_auc: 0.8925 - val_precision: 0.0285 - val_recall: 0.7619 - lr: 1.0000e-05 - 205ms/epoch - 8ms/step\n",
      "Epoch 85/100\n",
      "27/27 - 0s - loss: 0.6845 - accuracy: 0.7863 - auc: 0.8173 - precision: 0.0207 - recall: 0.7160 - val_loss: 0.6583 - val_accuracy: 0.8389 - val_auc: 0.8929 - val_precision: 0.0289 - val_recall: 0.7619 - lr: 1.0000e-05 - 222ms/epoch - 8ms/step\n",
      "Epoch 86/100\n",
      "27/27 - 0s - loss: 0.6450 - accuracy: 0.7773 - auc: 0.8522 - precision: 0.0215 - recall: 0.7751 - val_loss: 0.6576 - val_accuracy: 0.8396 - val_auc: 0.8940 - val_precision: 0.0290 - val_recall: 0.7619 - lr: 1.0000e-05 - 189ms/epoch - 7ms/step\n",
      "Epoch 87/100\n",
      "27/27 - 0s - loss: 0.6433 - accuracy: 0.7796 - auc: 0.8469 - precision: 0.0215 - recall: 0.7692 - val_loss: 0.6609 - val_accuracy: 0.8401 - val_auc: 0.8933 - val_precision: 0.0291 - val_recall: 0.7619 - lr: 1.0000e-05 - 206ms/epoch - 8ms/step\n",
      "Epoch 88/100\n",
      "27/27 - 0s - loss: 0.6719 - accuracy: 0.7842 - auc: 0.8269 - precision: 0.0212 - recall: 0.7396 - val_loss: 0.6587 - val_accuracy: 0.8403 - val_auc: 0.8929 - val_precision: 0.0291 - val_recall: 0.7619 - lr: 1.0000e-05 - 193ms/epoch - 7ms/step\n",
      "Epoch 89/100\n",
      "27/27 - 0s - loss: 0.7012 - accuracy: 0.7759 - auc: 0.8153 - precision: 0.0207 - recall: 0.7515 - val_loss: 0.6551 - val_accuracy: 0.8411 - val_auc: 0.8940 - val_precision: 0.0293 - val_recall: 0.7619 - lr: 1.0000e-05 - 193ms/epoch - 7ms/step\n",
      "Epoch 90/100\n",
      "27/27 - 0s - loss: 0.6812 - accuracy: 0.7820 - auc: 0.8133 - precision: 0.0205 - recall: 0.7219 - val_loss: 0.6615 - val_accuracy: 0.8390 - val_auc: 0.8929 - val_precision: 0.0289 - val_recall: 0.7619 - lr: 1.0000e-05 - 224ms/epoch - 8ms/step\n",
      "Epoch 91/100\n",
      "27/27 - 0s - loss: 0.6899 - accuracy: 0.7801 - auc: 0.8176 - precision: 0.0201 - recall: 0.7160 - val_loss: 0.6615 - val_accuracy: 0.8387 - val_auc: 0.8939 - val_precision: 0.0288 - val_recall: 0.7619 - lr: 1.0000e-05 - 189ms/epoch - 7ms/step\n",
      "Epoch 92/100\n",
      "27/27 - 0s - loss: 0.6491 - accuracy: 0.7811 - auc: 0.8469 - precision: 0.0214 - recall: 0.7574 - val_loss: 0.6592 - val_accuracy: 0.8392 - val_auc: 0.8940 - val_precision: 0.0289 - val_recall: 0.7619 - lr: 1.0000e-05 - 178ms/epoch - 7ms/step\n",
      "Epoch 93/100\n",
      "27/27 - 0s - loss: 0.6817 - accuracy: 0.7796 - auc: 0.8131 - precision: 0.0201 - recall: 0.7160 - val_loss: 0.6564 - val_accuracy: 0.8398 - val_auc: 0.8954 - val_precision: 0.0290 - val_recall: 0.7619 - lr: 1.0000e-05 - 193ms/epoch - 7ms/step\n",
      "Epoch 94/100\n",
      "27/27 - 0s - loss: 0.6572 - accuracy: 0.7839 - auc: 0.8368 - precision: 0.0224 - recall: 0.7870 - val_loss: 0.6510 - val_accuracy: 0.8427 - val_auc: 0.8950 - val_precision: 0.0295 - val_recall: 0.7619 - lr: 1.0000e-05 - 180ms/epoch - 7ms/step\n",
      "Epoch 95/100\n",
      "27/27 - 0s - loss: 0.6496 - accuracy: 0.7829 - auc: 0.8381 - precision: 0.0217 - recall: 0.7633 - val_loss: 0.6509 - val_accuracy: 0.8424 - val_auc: 0.8952 - val_precision: 0.0295 - val_recall: 0.7619 - lr: 1.0000e-05 - 193ms/epoch - 7ms/step\n",
      "Epoch 96/100\n",
      "27/27 - 0s - loss: 0.6601 - accuracy: 0.7829 - auc: 0.8346 - precision: 0.0210 - recall: 0.7396 - val_loss: 0.6507 - val_accuracy: 0.8414 - val_auc: 0.8953 - val_precision: 0.0293 - val_recall: 0.7619 - lr: 1.0000e-05 - 185ms/epoch - 7ms/step\n",
      "Epoch 97/100\n",
      "27/27 - 0s - loss: 0.6658 - accuracy: 0.7785 - auc: 0.8357 - precision: 0.0208 - recall: 0.7456 - val_loss: 0.6522 - val_accuracy: 0.8414 - val_auc: 0.8963 - val_precision: 0.0293 - val_recall: 0.7619 - lr: 1.0000e-05 - 194ms/epoch - 7ms/step\n",
      "Epoch 98/100\n",
      "27/27 - 0s - loss: 0.6685 - accuracy: 0.7828 - auc: 0.8257 - precision: 0.0217 - recall: 0.7633 - val_loss: 0.6520 - val_accuracy: 0.8414 - val_auc: 0.8959 - val_precision: 0.0293 - val_recall: 0.7619 - lr: 1.0000e-05 - 298ms/epoch - 11ms/step\n",
      "Epoch 99/100\n",
      "27/27 - 0s - loss: 0.6682 - accuracy: 0.7804 - auc: 0.8260 - precision: 0.0210 - recall: 0.7456 - val_loss: 0.6540 - val_accuracy: 0.8399 - val_auc: 0.8951 - val_precision: 0.0299 - val_recall: 0.7857 - lr: 1.0000e-05 - 225ms/epoch - 8ms/step\n",
      "Epoch 100/100\n",
      "27/27 - 0s - loss: 0.6517 - accuracy: 0.7796 - auc: 0.8445 - precision: 0.0219 - recall: 0.7811 - val_loss: 0.6609 - val_accuracy: 0.8365 - val_auc: 0.8938 - val_precision: 0.0293 - val_recall: 0.7857 - lr: 1.0000e-05 - 234ms/epoch - 9ms/step\n",
      "211/211 [==============================] - 0s 903us/step\n"
     ]
    }
   ],
   "execution_count": 50
  },
  {
   "metadata": {
    "ExecuteTime": {
     "end_time": "2025-04-24T07:25:48.383476Z",
     "start_time": "2025-04-24T07:25:48.271889Z"
    }
   },
   "cell_type": "code",
   "source": [
    "from sklearn.metrics import ConfusionMatrixDisplay\n",
    "# Tìm ngưỡng tối ưu sử dụng precision-recall curve\n",
    "precision, recall, thresholds = precision_recall_curve(y_test, y_pred_proba)\n",
    "f1_scores = 2 * recall * precision / (recall + precision + 1e-10)\n",
    "optimal_threshold_idx = np.argmax(f1_scores)\n",
    "optimal_threshold = thresholds[optimal_threshold_idx]\n",
    "\n",
    "print(f\"Ngưỡng dự đoán tối ưu: {optimal_threshold:.4f}\")\n",
    "\n",
    "# Áp dụng ngưỡng tối ưu\n",
    "y_pred = (y_pred_proba > optimal_threshold).astype(int)\n",
    "\n",
    "# Đánh giá mô hình\n",
    "# Hiển thị ma trận nhầm lẫn\n",
    "print(\"Confusion Matrix:\\n\", confusion_matrix(y_test, y_pred))\n",
    "disp = ConfusionMatrixDisplay.from_predictions(\n",
    "    y_test, y_pred,\n",
    "    normalize='true', \n",
    "    cmap='Greys',\n",
    "    colorbar=False\n",
    ")\n",
    "print(\"Classification Report:\\n\", classification_report(y_test, y_pred, digits=4))"
   ],
   "id": "d857141a64dae870",
   "outputs": [
    {
     "name": "stdout",
     "output_type": "stream",
     "text": [
      "Ngưỡng dự đoán tối ưu: 0.7675\n",
      "Confusion Matrix:\n",
      " [[6497  208]\n",
      " [  29   13]]\n",
      "Classification Report:\n",
      "               precision    recall  f1-score   support\n",
      "\n",
      "           0     0.9956    0.9690    0.9821      6705\n",
      "           1     0.0588    0.3095    0.0989        42\n",
      "\n",
      "    accuracy                         0.9649      6747\n",
      "   macro avg     0.5272    0.6393    0.5405      6747\n",
      "weighted avg     0.9897    0.9649    0.9766      6747\n",
      "\n"
     ]
    },
    {
     "data": {
      "text/plain": [
       "<Figure size 640x480 with 1 Axes>"
      ],
      "image/png": "[encoded data removed]"
     },
     "metadata": {},
     "output_type": "display_data"
    }
   ],
   "execution_count": 51
  },
  {
   "metadata": {
    "ExecuteTime": {
     "end_time": "2025-04-17T08:56:28.620171Z",
     "start_time": "2025-04-17T08:56:28.588442Z"
    }
   },
   "cell_type": "code",
   "source": [
    "# Tính ROC AUC và PR AUC\n",
    "roc_auc = roc_auc_score(y_test, y_pred_proba)\n",
    "precision, recall, _ = precision_recall_curve(y_test, y_pred_proba)\n",
    "pr_auc = auc(recall, precision)\n",
    "\n",
    "print(f\"ROC AUC: {roc_auc:.4f}\")\n",
    "print(f\"PR AUC: {pr_auc:.4f}\")\n"
   ],
   "id": "1f39980e7846e374",
   "outputs": [
    {
     "name": "stdout",
     "output_type": "stream",
     "text": [
      "ROC AUC: 0.8717\n",
      "PR AUC: 0.0533\n"
     ]
    }
   ],
   "execution_count": 13
  },
  {
   "metadata": {
    "ExecuteTime": {
     "end_time": "2025-04-17T08:56:31.832070Z",
     "start_time": "2025-04-17T08:56:31.130298Z"
    }
   },
   "cell_type": "code",
   "source": [
    "# Vẽ đường cong ROC và PR\n",
    "def plot_curves(y_true, y_pred_proba):\n",
    "    fig, (ax1, ax2) = plt.subplots(1, 2, figsize=(15, 6))\n",
    "    \n",
    "    # ROC Curve\n",
    "    from sklearn.metrics import roc_curve\n",
    "    fpr, tpr, _ = roc_curve(y_true, y_pred_proba)\n",
    "    ax1.plot(fpr, tpr, lw=2, label=f'ROC curve (area = {roc_auc:.4f})')\n",
    "    ax1.plot([0, 1], [0, 1], 'k--', lw=2)\n",
    "    ax1.set_xlim([0.0, 1.0])\n",
    "    ax1.set_ylim([0.0, 1.05])\n",
    "    ax1.set_xlabel('False Positive Rate')\n",
    "    ax1.set_ylabel('True Positive Rate')\n",
    "    ax1.set_title('Receiver Operating Characteristic')\n",
    "    ax1.legend(loc=\"lower right\")\n",
    "    \n",
    "    # Precision-Recall Curve\n",
    "    ax2.plot(recall, precision, lw=2, label=f'PR curve (area = {pr_auc:.4f})')\n",
    "    ax2.set_xlim([0.0, 1.0])\n",
    "    ax2.set_ylim([0.0, 1.05])\n",
    "    ax2.set_xlabel('Recall')\n",
    "    ax2.set_ylabel('Precision')\n",
    "    ax2.set_title('Precision-Recall Curve')\n",
    "    ax2.legend(loc=\"lower left\")\n",
    "    \n",
    "    plt.tight_layout()\n",
    "    # plt.savefig('model_evaluation_curves.png')\n",
    "    plt.show()\n",
    "\n",
    "plot_curves(y_test, y_pred_proba)"
   ],
   "id": "f311f60b195d4761",
   "outputs": [
    {
     "data": {
      "text/plain": [
       "<Figure size 1500x600 with 2 Axes>"
      ],
      "image/png": "[encoded data removed]"
     },
     "metadata": {},
     "output_type": "display_data"
    }
   ],
   "execution_count": 14
  },
  {
   "metadata": {},
   "cell_type": "code",
   "outputs": [],
   "execution_count": null,
   "source": [
    "# Lưu mô hình và thông tin quan trọng\n",
    "improved_model.save('fraud_detection_improved_model.h5')\n",
    "\n",
    "model_info = {\n",
    "    'optimal_threshold': optimal_threshold,\n",
    "    'roc_auc': roc_auc,\n",
    "    'pr_auc': pr_auc,\n",
    "    'use_smote': use_smote\n",
    "}\n",
    "\n",
    "with open('model_info.pkl', 'wb') as f:\n",
    "    pickle.dump(model_info, f)\n",
    "\n",
    "print(\"Đã lưu mô hình và thông tin quan trọng.\")"
   ],
   "id": "8c4a37cdc6253f34"
  },
  {
   "metadata": {
    "ExecuteTime": {
     "end_time": "2025-04-16T14:26:45.878159Z",
     "start_time": "2025-04-16T14:26:45.855915Z"
    }
   },
   "cell_type": "code",
   "source": [
    "# Tính class weight cho việc huấn luyện\n",
    "# class_weights = compute_class_weight(class_weight='balanced', classes=np.unique(y_train), y=y_train)\n",
    "# class_weights_dict = {i: class_weights[i] for i in range(len(class_weights))}\n",
    "# print(\"Class weights:\", class_weights_dict)"
   ],
   "id": "93213c5f572e479f",
   "outputs": [
    {
     "name": "stdout",
     "output_type": "stream",
     "text": [
      "{0: 0.5031574760081547, 1: 79.67716535433071}\n"
     ]
    }
   ],
   "execution_count": 20
  },
  {
   "metadata": {
    "ExecuteTime": {
     "end_time": "2025-04-16T14:26:48.039983Z",
     "start_time": "2025-04-16T14:26:47.825564Z"
    }
   },
   "cell_type": "code",
   "source": [
    "# Khởi tạo mô hình\n",
    "# model = Sequential()\n",
    "# model.add(Dense(64, input_dim=X_train.shape[1], activation='relu'))\n",
    "# model.add(Dropout(0.3))\n",
    "# model.add(Dense(32, activation='relu'))\n",
    "# model.add(Dropout(0.3))\n",
    "# model.add(Dense(1, activation='sigmoid'))  # Binary classification\n",
    "# \n",
    "# model.compile(optimizer='adam', loss='binary_crossentropy', metrics=['accuracy'])"
   ],
   "id": "f19147930d380b6d",
   "outputs": [
    {
     "name": "stdout",
     "output_type": "stream",
     "text": [
      "WARNING:tensorflow:From C:\\Users\\ASUS\\AppData\\Local\\Programs\\Python\\Python310\\lib\\site-packages\\tf_keras\\src\\backend.py:873: The name tf.get_default_graph is deprecated. Please use tf.compat.v1.get_default_graph instead.\n",
      "\n",
      "WARNING:tensorflow:From C:\\Users\\ASUS\\AppData\\Local\\Programs\\Python\\Python310\\lib\\site-packages\\tf_keras\\src\\optimizers\\__init__.py:317: The name tf.train.Optimizer is deprecated. Please use tf.compat.v1.train.Optimizer instead.\n",
      "\n"
     ]
    }
   ],
   "execution_count": 21
  },
  {
   "metadata": {
    "ExecuteTime": {
     "end_time": "2025-04-16T14:40:53.718998Z",
     "start_time": "2025-04-16T14:40:53.693792Z"
    }
   },
   "cell_type": "code",
   "source": [
    "# In kiến trúc mô hình\n",
    "# model.summary()"
   ],
   "id": "dc86d3f783bab12",
   "outputs": [
    {
     "name": "stdout",
     "output_type": "stream",
     "text": [
      "Model: \"sequential\"\n",
      "_________________________________________________________________\n",
      " Layer (type)                Output Shape              Param #   \n",
      "=================================================================\n",
      " dense (Dense)               (None, 64)                704       \n",
      "                                                                 \n",
      " dropout (Dropout)           (None, 64)                0         \n",
      "                                                                 \n",
      " dense_1 (Dense)             (None, 32)                2080      \n",
      "                                                                 \n",
      " dropout_1 (Dropout)         (None, 32)                0         \n",
      "                                                                 \n",
      " dense_2 (Dense)             (None, 1)                 33        \n",
      "                                                                 \n",
      "=================================================================\n",
      "Total params: 2817 (11.00 KB)\n",
      "Trainable params: 2817 (11.00 KB)\n",
      "Non-trainable params: 0 (0.00 Byte)\n",
      "_________________________________________________________________\n"
     ]
    }
   ],
   "execution_count": 27
  },
  {
   "metadata": {
    "ExecuteTime": {
     "end_time": "2025-04-16T14:32:16.255069Z",
     "start_time": "2025-04-16T14:32:15.756315Z"
    }
   },
   "cell_type": "code",
   "source": [
    "# Tạo sample weights từ class_weights_dict\n",
    "# sample_weights = np.array([class_weights_dict[int(label)] for label in y_train])\n",
    "# \n",
    "# Huấn luyện mô hình\n",
    "# early_stop = EarlyStopping(monitor='val_loss', patience=5, restore_best_weights=True)\n",
    "# \n",
    "# model.fit(\n",
    "#     X_train, y_train,\n",
    "#     validation_data=(X_val, y_val),\n",
    "#     epochs=100,\n",
    "#     batch_size=2048,\n",
    "#     sample_weight=sample_weights,\n",
    "#     callbacks=[early_stop],\n",
    "#     verbose=2\n",
    "# )"
   ],
   "id": "47815369d889fa49",
   "outputs": [
    {
     "name": "stdout",
     "output_type": "stream",
     "text": [
      "Epoch 1/100\n",
      "10/10 - 0s - loss: 150.5659 - accuracy: 0.3871 - val_loss: 134.3706 - val_accuracy: 0.1484 - 85ms/epoch - 8ms/step\n",
      "Epoch 2/100\n",
      "10/10 - 0s - loss: 341.3003 - accuracy: 0.3540 - val_loss: 204.1913 - val_accuracy: 0.2132 - 55ms/epoch - 6ms/step\n",
      "Epoch 3/100\n",
      "10/10 - 0s - loss: 134.0645 - accuracy: 0.3112 - val_loss: 258.6426 - val_accuracy: 0.2742 - 63ms/epoch - 6ms/step\n",
      "Epoch 4/100\n",
      "10/10 - 0s - loss: 103.9565 - accuracy: 0.3493 - val_loss: 267.0030 - val_accuracy: 0.3556 - 64ms/epoch - 6ms/step\n",
      "Epoch 5/100\n",
      "10/10 - 0s - loss: 113.3873 - accuracy: 0.3989 - val_loss: 262.4272 - val_accuracy: 0.4056 - 47ms/epoch - 5ms/step\n",
      "Epoch 6/100\n",
      "10/10 - 0s - loss: 121.5617 - accuracy: 0.4460 - val_loss: 260.1262 - val_accuracy: 0.4487 - 63ms/epoch - 6ms/step\n"
     ]
    },
    {
     "data": {
      "text/plain": [
       "<tf_keras.src.callbacks.History at 0x2139b5d3160>"
      ]
     },
     "execution_count": 25,
     "metadata": {},
     "output_type": "execute_result"
    }
   ],
   "execution_count": 25
  },
  {
   "metadata": {
    "ExecuteTime": {
     "end_time": "2025-04-16T14:35:41.645215Z",
     "start_time": "2025-04-16T14:35:41.308479Z"
    }
   },
   "cell_type": "code",
   "source": [
    "# Dự đoán và đánh giá\n",
    "# y_pred = (model.predict(X_test) > 0.5).astype(int)\n",
    "# print(\"Confusion Matrix:\\n\", confusion_matrix(y_test, y_pred))\n",
    "# print(\"Classification Report:\\n\", classification_report(y_test, y_pred, digits=4))"
   ],
   "id": "9ae08a962dcac85f",
   "outputs": [
    {
     "name": "stdout",
     "output_type": "stream",
     "text": [
      "211/211 [==============================] - 0s 921us/step\n",
      "[[ 955 5750]\n",
      " [   2   40]]\n",
      "              precision    recall  f1-score   support\n",
      "\n",
      "           0     0.9979    0.1424    0.2493      6705\n",
      "           1     0.0069    0.9524    0.0137        42\n",
      "\n",
      "    accuracy                         0.1475      6747\n",
      "   macro avg     0.5024    0.5474    0.1315      6747\n",
      "weighted avg     0.9917    0.1475    0.2478      6747\n",
      "\n"
     ]
    }
   ],
   "execution_count": 26
  }
 ],
 "metadata": {
  "kernelspec": {
   "display_name": "Python 3",
   "language": "python",
   "name": "python3"
  },
  "language_info": {
   "codemirror_mode": {
    "name": "ipython",
    "version": 2
   },
   "file_extension": ".py",
   "mimetype": "text/x-python",
   "name": "python",
   "nbconvert_exporter": "python",
   "pygments_lexer": "ipython2",
   "version": "2.7.6"
  }
 },
 "nbformat": 4,
 "nbformat_minor": 5
}
