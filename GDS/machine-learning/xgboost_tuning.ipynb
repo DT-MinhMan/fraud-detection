{
 "cells": [
  {
   "cell_type": "code",
   "id": "initial_id",
   "metadata": {
    "collapsed": true,
    "ExecuteTime": {
     "end_time": "2025-04-24T09:14:27.461754Z",
     "start_time": "2025-04-24T09:14:25.138258Z"
    }
   },
   "source": [
    "import pickle\n",
    "import numpy as np\n",
    "import pandas as pd\n",
    "import xgboost as xgb\n",
    "from sklearn.model_selection import GridSearchCV\n",
    "from sklearn.metrics import classification_report, precision_recall_curve, average_precision_score, roc_auc_score\n",
    "from imblearn.over_sampling import SMOTE\n",
    "from imblearn.pipeline import Pipeline as ImbPipeline\n"
   ],
   "outputs": [],
   "execution_count": 1
  },
  {
   "metadata": {
    "ExecuteTime": {
     "end_time": "2025-04-24T09:14:29.751906Z",
     "start_time": "2025-04-24T09:14:29.704876Z"
    }
   },
   "cell_type": "code",
   "source": [
    "# Tải data đã lưu\n",
    "split_file = \"splitted_data.pkl\"\n",
    "print(\"Tải dữ liệu đã lưu từ:\", split_file)\n",
    "\n",
    "with open(split_file, \"rb\") as f:\n",
    "    data_splits = pickle.load(f)\n",
    "\n",
    "# Lấy các tập dữ liệu từ dictionary\n",
    "X_train = data_splits[\"X_train\"]\n",
    "X_val = data_splits[\"X_val\"]\n",
    "X_test = data_splits[\"X_test\"]\n",
    "y_train = data_splits[\"y_train\"]\n",
    "y_val = data_splits[\"y_val\"]\n",
    "y_test = data_splits[\"y_test\"]\n",
    "X_train_val = data_splits[\"X_train_val\"]\n",
    "y_train_val = data_splits[\"y_train_val\"]"
   ],
   "id": "bf76443c55210769",
   "outputs": [
    {
     "name": "stdout",
     "output_type": "stream",
     "text": [
      "Tải dữ liệu đã lưu từ: splitted_data.pkl\n"
     ]
    }
   ],
   "execution_count": 2
  },
  {
   "metadata": {
    "jupyter": {
     "is_executing": true
    },
    "ExecuteTime": {
     "start_time": "2025-04-24T09:14:33.822881Z"
    }
   },
   "cell_type": "code",
   "source": [
    "\n",
    "# Tạo pipeline với SMOTE và XGBoost\n",
    "pipeline = ImbPipeline([\n",
    "    ('smote', SMOTE(random_state=42)),\n",
    "    ('classifier', xgb.XGBClassifier(objective='binary:logistic', random_state=42))\n",
    "])\n",
    "\n",
    "# Định nghĩa không gian tìm kiếm siêu tham số\n",
    "param_grid = {\n",
    "    # Tham số cho SMOTE\n",
    "    'smote__k_neighbors': [5, 10, 15],  # Số lượng neighbors để tạo mẫu tổng hợp\n",
    "    'smote__sampling_strategy': [0.5, 0.75, 1.0],  # Tỷ lệ resampling (1.0 = cân bằng hoàn toàn)\n",
    "    \n",
    "    # Tham số cho XGBoost\n",
    "    'classifier__n_estimators': [100, 200, 300],\n",
    "    'classifier__learning_rate': [0.01, 0.05, 0.1],\n",
    "    'classifier__max_depth': [3, 5, 7],\n",
    "    'classifier__min_child_weight': [1, 3, 5],\n",
    "    'classifier__gamma': [0, 0.1, 0.2],\n",
    "    'classifier__subsample': [0.8, 0.9, 1.0],\n",
    "    'classifier__colsample_bytree': [0.8, 0.9, 1.0],\n",
    "    'classifier__scale_pos_weight': [1, 5, 10]  # Quan trọng cho dữ liệu mất cân bằng\n",
    "}\n",
    "\n",
    "# Đối với fraud detection, precision, recall, f1 và ROC-AUC đều quan trọng\n",
    "# Nhưng average_precision (PR-AUC) thường phù hợp nhất cho dữ liệu mất cân bằng nặng\n",
    "grid_search = GridSearchCV(\n",
    "    estimator=pipeline,\n",
    "    param_grid=param_grid,\n",
    "    scoring='average_precision',  # Sử dụng PR-AUC\n",
    "    cv=5,  # Stratified K-Fold mặc định sẽ được sử dụng\n",
    "    verbose=2,\n",
    "    n_jobs=-1\n",
    ")\n",
    "\n",
    "# Huấn luyện trên tập train\n",
    "grid_search.fit(X_train, y_train)\n",
    "\n",
    "# In ra siêu tham số tốt nhất\n",
    "print(\"Siêu tham số tốt nhất:\", grid_search.best_params_)\n",
    "print(\"Điểm số tốt nhất:\", grid_search.best_score_)\n",
    "\n",
    "# Lấy mô hình tốt nhất\n",
    "best_model = grid_search.best_estimator_\n",
    "\n",
    "# Đánh giá trên tập test\n",
    "y_test_pred = best_model.predict(X_test)\n",
    "\n",
    "# In kết quả đánh giá trên từng tập\n",
    "print(\"\\nKết quả trên tập Test:\")\n",
    "print(classification_report(y_test, y_test_pred, zero_division=0))\n",
    "\n",
    "# Lưu mô hình tốt nhất (chỉ lưu phần XGBoost)\n",
    "best_xgb_model = best_model.named_steps['classifier']\n",
    "best_xgb_model.save_model('best_fraud_detection_model.json')"
   ],
   "id": "7fdb54e8d94aa056",
   "outputs": [
    {
     "name": "stdout",
     "output_type": "stream",
     "text": [
      "Fitting 5 folds for each of 59049 candidates, totalling 295245 fits\n"
     ]
    }
   ],
   "execution_count": null
  },
  {
   "metadata": {},
   "cell_type": "code",
   "outputs": [],
   "execution_count": null,
   "source": [
    "from sklearn.metrics import classification_report, confusion_matrix\n",
    "from imblearn.over_sampling import SMOTE\n",
    "import matplotlib.pyplot as plt\n",
    "import seaborn as sns"
   ],
   "id": "7be5e2ac3142582f"
  },
  {
   "metadata": {},
   "cell_type": "code",
   "outputs": [],
   "execution_count": null,
   "source": [
    "# Bước 3: Áp dụng SMOTE trên tập train_val\n",
    "# Sử dụng tham số SMOTE tốt nhất từ grid search\n",
    "smote = SMOTE(\n",
    "    k_neighbors=10,  # Thay thế bằng tham số tốt nhất từ grid search\n",
    "    sampling_strategy=0.75,  # Thay thế bằng tham số tốt nhất\n",
    "    random_state=42\n",
    ")\n",
    "X_train_val_resampled, y_train_val_resampled = smote.fit_resample(X_train_val, y_train_val)\n",
    "\n",
    "# Bước 4: Huấn luyện lại mô hình trên dữ liệu train_val đã được resample\n",
    "best_xgb_model.fit(\n",
    "    X_train_val_resampled,\n",
    "    y_train_val_resampled,\n",
    "    eval_set=[(X_test, y_test)],\n",
    "    eval_metric=['auc', 'logloss'],\n",
    "    early_stopping_rounds=50,\n",
    "    verbose=True\n",
    ")\n",
    "\n",
    "# Bước 5: Đánh giá mô hình trên tập test\n",
    "y_test_pred = best_xgb_model.predict(X_test)"
   ],
   "id": "8a91cb927b46b694"
  },
  {
   "metadata": {},
   "cell_type": "code",
   "outputs": [],
   "execution_count": null,
   "source": [
    "print(\"\\nBáo cáo phân loại chi tiết:\")\n",
    "print(classification_report(y_test, y_test_pred))\n",
    "# Bước 6: Vẽ confusion matrix\n",
    "cm = confusion_matrix(y_test, y_test_pred)\n",
    "plt.figure(figsize=(8, 6))\n",
    "sns.heatmap(cm, annot=True, fmt='d', cmap='Blues', cbar=False)\n",
    "plt.title('Confusion Matrix')\n",
    "plt.ylabel('Actual')\n",
    "plt.xlabel('Predicted')\n",
    "plt.show()\n"
   ],
   "id": "4afe040925b4d988"
  }
 ],
 "metadata": {
  "kernelspec": {
   "display_name": "Python 3",
   "language": "python",
   "name": "python3"
  },
  "language_info": {
   "codemirror_mode": {
    "name": "ipython",
    "version": 2
   },
   "file_extension": ".py",
   "mimetype": "text/x-python",
   "name": "python",
   "nbconvert_exporter": "python",
   "pygments_lexer": "ipython2",
   "version": "2.7.6"
  }
 },
 "nbformat": 4,
 "nbformat_minor": 5
}
